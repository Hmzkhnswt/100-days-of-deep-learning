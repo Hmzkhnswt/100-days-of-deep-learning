{
 "cells": [
  {
   "cell_type": "code",
   "execution_count": 27,
   "metadata": {},
   "outputs": [],
   "source": [
    "import tensorflow\n",
    "import keras\n",
    "from keras.layers import Dense, Flatten, SimpleRNN\n",
    "from keras.models import Sequential"
   ]
  },
  {
   "attachments": {},
   "cell_type": "markdown",
   "metadata": {},
   "source": [
    "### Loading from keras.datasets imdb "
   ]
  },
  {
   "attachments": {},
   "cell_type": "markdown",
   "metadata": {},
   "source": [
    "Here just using 10000 voc_size"
   ]
  },
  {
   "cell_type": "code",
   "execution_count": 44,
   "metadata": {},
   "outputs": [],
   "source": [
    "from keras.datasets import imdb\n",
    "(xtrain, ytrain) , (xtest,ytest) = imdb.load_data(num_words=10000)"
   ]
  },
  {
   "cell_type": "code",
   "execution_count": 45,
   "metadata": {},
   "outputs": [
    {
     "data": {
      "text/plain": [
       "(25000,)"
      ]
     },
     "execution_count": 45,
     "metadata": {},
     "output_type": "execute_result"
    }
   ],
   "source": [
    "xtrain.shape"
   ]
  },
  {
   "cell_type": "code",
   "execution_count": 46,
   "metadata": {},
   "outputs": [
    {
     "data": {
      "text/plain": [
       "(25000,)"
      ]
     },
     "execution_count": 46,
     "metadata": {},
     "output_type": "execute_result"
    }
   ],
   "source": [
    "ytest.shape"
   ]
  },
  {
   "cell_type": "code",
   "execution_count": 47,
   "metadata": {},
   "outputs": [
    {
     "data": {
      "text/plain": [
       "218"
      ]
     },
     "execution_count": 47,
     "metadata": {},
     "output_type": "execute_result"
    }
   ],
   "source": [
    "len(xtrain[0])"
   ]
  },
  {
   "attachments": {},
   "cell_type": "markdown",
   "metadata": {},
   "source": [
    "### Post Padding on xtrain, xtest"
   ]
  },
  {
   "cell_type": "code",
   "execution_count": 48,
   "metadata": {},
   "outputs": [],
   "source": [
    "from keras.utils import pad_sequences\n",
    "xtrain = pad_sequences(xtrain, padding='post',maxlen=50)\n",
    "xtest = pad_sequences(xtest,padding='post', maxlen=50)"
   ]
  },
  {
   "cell_type": "code",
   "execution_count": 49,
   "metadata": {},
   "outputs": [
    {
     "data": {
      "text/plain": [
       "50"
      ]
     },
     "execution_count": 49,
     "metadata": {},
     "output_type": "execute_result"
    }
   ],
   "source": [
    "len(xtrain[0])"
   ]
  },
  {
   "attachments": {},
   "cell_type": "markdown",
   "metadata": {},
   "source": [
    "### using embedding layer"
   ]
  },
  {
   "cell_type": "code",
   "execution_count": 50,
   "metadata": {},
   "outputs": [],
   "source": [
    "from keras.layers import Embedding"
   ]
  },
  {
   "attachments": {},
   "cell_type": "markdown",
   "metadata": {},
   "source": [
    "### our used paramters for embedding layer"
   ]
  },
  {
   "cell_type": "code",
   "execution_count": 54,
   "metadata": {},
   "outputs": [],
   "source": [
    "voc_size = 10000 ## just for simplicity\n",
    "size_sentence = 50\n",
    "output_embidding_dim = 2"
   ]
  },
  {
   "cell_type": "code",
   "execution_count": 51,
   "metadata": {},
   "outputs": [
    {
     "name": "stdout",
     "output_type": "stream",
     "text": [
      "Model: \"sequential_5\"\n",
      "_________________________________________________________________\n",
      " Layer (type)                Output Shape              Param #   \n",
      "=================================================================\n",
      " embedding_5 (Embedding)     (None, 50, 2)             20000     \n",
      "                                                                 \n",
      " simple_rnn_5 (SimpleRNN)    (None, 32)                1120      \n",
      "                                                                 \n",
      " dense_5 (Dense)             (None, 1)                 33        \n",
      "                                                                 \n",
      "=================================================================\n",
      "Total params: 21153 (82.63 KB)\n",
      "Trainable params: 21153 (82.63 KB)\n",
      "Non-trainable params: 0 (0.00 Byte)\n",
      "_________________________________________________________________\n"
     ]
    }
   ],
   "source": [
    "model =  Sequential()\n",
    "model.add(Embedding(input_dim=10000, output_dim=2, input_length=50))\n",
    "model.add(SimpleRNN(32,return_sequences=False ))\n",
    "model.add(Dense(1, activation='sigmoid'))\n",
    "model.summary()"
   ]
  },
  {
   "cell_type": "code",
   "execution_count": 52,
   "metadata": {},
   "outputs": [],
   "source": [
    "model.compile(optimizer='adam', loss='binary_crossentropy', metrics=['accuracy'])"
   ]
  },
  {
   "cell_type": "code",
   "execution_count": 53,
   "metadata": {},
   "outputs": [
    {
     "name": "stdout",
     "output_type": "stream",
     "text": [
      "Epoch 1/10\n",
      "782/782 [==============================] - 12s 13ms/step - loss: 0.6309 - accuracy: 0.6148 - val_loss: 0.4801 - val_accuracy: 0.7788\n",
      "Epoch 2/10\n",
      "782/782 [==============================] - 10s 13ms/step - loss: 0.4074 - accuracy: 0.8185 - val_loss: 0.4148 - val_accuracy: 0.8143\n",
      "Epoch 3/10\n",
      "782/782 [==============================] - 13s 16ms/step - loss: 0.3315 - accuracy: 0.8632 - val_loss: 0.4437 - val_accuracy: 0.8072\n",
      "Epoch 4/10\n",
      "782/782 [==============================] - 13s 17ms/step - loss: 0.2862 - accuracy: 0.8867 - val_loss: 0.4749 - val_accuracy: 0.7966\n",
      "Epoch 5/10\n",
      "782/782 [==============================] - 12s 15ms/step - loss: 0.2532 - accuracy: 0.9025 - val_loss: 0.4875 - val_accuracy: 0.7986\n",
      "Epoch 6/10\n",
      "782/782 [==============================] - 13s 17ms/step - loss: 0.2228 - accuracy: 0.9182 - val_loss: 0.5177 - val_accuracy: 0.7965\n",
      "Epoch 7/10\n",
      "782/782 [==============================] - 12s 15ms/step - loss: 0.1984 - accuracy: 0.9289 - val_loss: 0.5284 - val_accuracy: 0.7920\n",
      "Epoch 8/10\n",
      "782/782 [==============================] - 12s 15ms/step - loss: 0.1792 - accuracy: 0.9363 - val_loss: 0.5515 - val_accuracy: 0.7875\n",
      "Epoch 9/10\n",
      "782/782 [==============================] - 11s 14ms/step - loss: 0.1605 - accuracy: 0.9427 - val_loss: 0.7278 - val_accuracy: 0.7761\n",
      "Epoch 10/10\n",
      "782/782 [==============================] - 12s 15ms/step - loss: 0.1484 - accuracy: 0.9481 - val_loss: 0.6715 - val_accuracy: 0.7788\n"
     ]
    },
    {
     "data": {
      "text/plain": [
       "<keras.src.callbacks.History at 0x2424e980b20>"
      ]
     },
     "execution_count": 53,
     "metadata": {},
     "output_type": "execute_result"
    }
   ],
   "source": [
    "model.fit(xtrain, ytrain, epochs=10, validation_data=(xtest,ytest))"
   ]
  },
  {
   "cell_type": "code",
   "execution_count": 57,
   "metadata": {},
   "outputs": [
    {
     "data": {
      "text/plain": [
       "array([ 394,  354,    4,  123,    9, 1035, 1035, 1035,   10,   10,   13,\n",
       "         92,  124,   89,  488, 7944,  100,   28, 1668,   14,   31,   23,\n",
       "         27, 7479,   29,  220,  468,    8,  124,   14,  286,  170,    8,\n",
       "        157,   46,    5,   27,  239,   16,  179,    2,   38,   32,   25,\n",
       "       7944,  451,  202,   14,    6,  717])"
      ]
     },
     "execution_count": 57,
     "metadata": {},
     "output_type": "execute_result"
    }
   ],
   "source": [
    "xtest[0]"
   ]
  },
  {
   "cell_type": "code",
   "execution_count": 59,
   "metadata": {},
   "outputs": [
    {
     "name": "stdout",
     "output_type": "stream",
     "text": [
      "1/1 [==============================] - 0s 22ms/step\n",
      "Predicted embedding:\n",
      "[[0.00846057]]\n"
     ]
    }
   ],
   "source": [
    "# Assuming you have already trained the model and loaded the test data\n",
    "x_test = pad_sequences(xtest, maxlen=50, padding='post')  # Pad the test sequences\n",
    "\n",
    "# Predict using the trained model\n",
    "prediction = model.predict(x_test[0].reshape(1, -1))  # Reshape to match input shape\n",
    "\n",
    "print(\"Predicted embedding:\")\n",
    "print(prediction)"
   ]
  }
 ],
 "metadata": {
  "kernelspec": {
   "display_name": "Python 3",
   "language": "python",
   "name": "python3"
  },
  "language_info": {
   "codemirror_mode": {
    "name": "ipython",
    "version": 3
   },
   "file_extension": ".py",
   "mimetype": "text/x-python",
   "name": "python",
   "nbconvert_exporter": "python",
   "pygments_lexer": "ipython3",
   "version": "3.10.11"
  },
  "orig_nbformat": 4
 },
 "nbformat": 4,
 "nbformat_minor": 2
}
