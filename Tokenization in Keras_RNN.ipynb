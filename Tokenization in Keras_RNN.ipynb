{
 "cells": [
  {
   "cell_type": "code",
   "execution_count": 67,
   "metadata": {},
   "outputs": [],
   "source": [
    "import numpy as np"
   ]
  },
  {
   "cell_type": "code",
   "execution_count": 68,
   "metadata": {},
   "outputs": [],
   "source": [
    "myfile = [\n",
    "    'I am Hamza Ali',\n",
    "    'I am living in Mansehra',\n",
    "    'I love Pakistan',\n",
    "    'I am a Data Scientist',\n",
    "    'My father name is Zulqarnain'\n",
    "]"
   ]
  },
  {
   "cell_type": "code",
   "execution_count": 69,
   "metadata": {},
   "outputs": [],
   "source": [
    "import tensorflow as tf\n",
    "import keras\n",
    "from keras.preprocessing.text import Tokenizer"
   ]
  },
  {
   "cell_type": "code",
   "execution_count": 70,
   "metadata": {},
   "outputs": [],
   "source": [
    "Tokenizer = Tokenizer(oov_token='nothing else')"
   ]
  },
  {
   "cell_type": "code",
   "execution_count": 71,
   "metadata": {},
   "outputs": [],
   "source": [
    "Tokenizer.fit_on_texts(myfile)"
   ]
  },
  {
   "cell_type": "code",
   "execution_count": 72,
   "metadata": {},
   "outputs": [
    {
     "data": {
      "text/plain": [
       "{'nothing else': 1,\n",
       " 'i': 2,\n",
       " 'am': 3,\n",
       " 'hamza': 4,\n",
       " 'ali': 5,\n",
       " 'living': 6,\n",
       " 'in': 7,\n",
       " 'mansehra': 8,\n",
       " 'love': 9,\n",
       " 'pakistan': 10,\n",
       " 'a': 11,\n",
       " 'data': 12,\n",
       " 'scientist': 13,\n",
       " 'my': 14,\n",
       " 'father': 15,\n",
       " 'name': 16,\n",
       " 'is': 17,\n",
       " 'zulqarnain': 18}"
      ]
     },
     "execution_count": 72,
     "metadata": {},
     "output_type": "execute_result"
    }
   ],
   "source": [
    "Tokenizer.word_index"
   ]
  },
  {
   "cell_type": "code",
   "execution_count": 73,
   "metadata": {},
   "outputs": [
    {
     "data": {
      "text/plain": [
       "OrderedDict([('i', 4),\n",
       "             ('am', 3),\n",
       "             ('hamza', 1),\n",
       "             ('ali', 1),\n",
       "             ('living', 1),\n",
       "             ('in', 1),\n",
       "             ('mansehra', 1),\n",
       "             ('love', 1),\n",
       "             ('pakistan', 1),\n",
       "             ('a', 1),\n",
       "             ('data', 1),\n",
       "             ('scientist', 1),\n",
       "             ('my', 1),\n",
       "             ('father', 1),\n",
       "             ('name', 1),\n",
       "             ('is', 1),\n",
       "             ('zulqarnain', 1)])"
      ]
     },
     "execution_count": 73,
     "metadata": {},
     "output_type": "execute_result"
    }
   ],
   "source": [
    "Tokenizer.word_counts"
   ]
  },
  {
   "cell_type": "code",
   "execution_count": 74,
   "metadata": {},
   "outputs": [
    {
     "data": {
      "text/plain": [
       "5"
      ]
     },
     "execution_count": 74,
     "metadata": {},
     "output_type": "execute_result"
    }
   ],
   "source": [
    "Tokenizer.document_count"
   ]
  },
  {
   "cell_type": "code",
   "execution_count": 75,
   "metadata": {},
   "outputs": [
    {
     "data": {
      "text/plain": [
       "[[2, 3, 4, 5],\n",
       " [2, 3, 6, 7, 8],\n",
       " [2, 9, 10],\n",
       " [2, 3, 11, 12, 13],\n",
       " [14, 15, 16, 17, 18]]"
      ]
     },
     "execution_count": 75,
     "metadata": {},
     "output_type": "execute_result"
    }
   ],
   "source": [
    "sequence = Tokenizer.texts_to_sequences(myfile)\n",
    "sequence"
   ]
  },
  {
   "cell_type": "code",
   "execution_count": 76,
   "metadata": {},
   "outputs": [],
   "source": [
    "from keras.utils import pad_sequences\n",
    "sequence = pad_sequences(sequence, padding='post')"
   ]
  },
  {
   "cell_type": "code",
   "execution_count": 77,
   "metadata": {},
   "outputs": [
    {
     "data": {
      "text/plain": [
       "array([[ 2,  3,  4,  5,  0],\n",
       "       [ 2,  3,  6,  7,  8],\n",
       "       [ 2,  9, 10,  0,  0],\n",
       "       [ 2,  3, 11, 12, 13],\n",
       "       [14, 15, 16, 17, 18]])"
      ]
     },
     "execution_count": 77,
     "metadata": {},
     "output_type": "execute_result"
    }
   ],
   "source": [
    "sequence"
   ]
  },
  {
   "attachments": {},
   "cell_type": "markdown",
   "metadata": {},
   "source": [
    "### Here we willuse embedding in keras "
   ]
  },
  {
   "cell_type": "code",
   "execution_count": 78,
   "metadata": {},
   "outputs": [],
   "source": [
    "from keras.layers import Embedding, Dense\n",
    "from keras.models import Sequential"
   ]
  },
  {
   "cell_type": "code",
   "execution_count": 79,
   "metadata": {},
   "outputs": [],
   "source": [
    "myfile2 = [\n",
    "    'I am Hamza Ali',\n",
    "    'I am living in Mansehra',\n",
    "    'I love Pakistan',\n",
    "    'I am a Data Scientist',\n",
    "    'My father name is Zulqarnain',\n",
    "    'Now I am studying Computer Engineering',\n",
    "    'Pakistan Zindabad',\n",
    "    'Alhamdulillah',\n",
    "    'Today is Friday'\n",
    "]"
   ]
  },
  {
   "cell_type": "code",
   "execution_count": 80,
   "metadata": {},
   "outputs": [],
   "source": [
    "Tokenizer.fit_on_texts(myfile2)"
   ]
  },
  {
   "cell_type": "code",
   "execution_count": 81,
   "metadata": {},
   "outputs": [
    {
     "data": {
      "text/plain": [
       "26"
      ]
     },
     "execution_count": 81,
     "metadata": {},
     "output_type": "execute_result"
    }
   ],
   "source": [
    "len(Tokenizer.index_word)"
   ]
  },
  {
   "cell_type": "code",
   "execution_count": 82,
   "metadata": {},
   "outputs": [
    {
     "data": {
      "text/plain": [
       "[[2, 3, 6, 7],\n",
       " [2, 3, 8, 9, 10],\n",
       " [2, 11, 4],\n",
       " [2, 3, 12, 13, 14],\n",
       " [15, 16, 17, 5, 18],\n",
       " [19, 2, 3, 20, 21, 22],\n",
       " [4, 23],\n",
       " [24],\n",
       " [25, 5, 26]]"
      ]
     },
     "execution_count": 82,
     "metadata": {},
     "output_type": "execute_result"
    }
   ],
   "source": [
    "sequence2 = Tokenizer.texts_to_sequences(myfile2)\n",
    "sequence2"
   ]
  },
  {
   "cell_type": "code",
   "execution_count": 83,
   "metadata": {},
   "outputs": [
    {
     "data": {
      "text/plain": [
       "14"
      ]
     },
     "execution_count": 83,
     "metadata": {},
     "output_type": "execute_result"
    }
   ],
   "source": [
    "Tokenizer.document_count"
   ]
  },
  {
   "cell_type": "code",
   "execution_count": 84,
   "metadata": {},
   "outputs": [
    {
     "data": {
      "text/plain": [
       "array([[ 2,  3,  6,  7,  0,  0],\n",
       "       [ 2,  3,  8,  9, 10,  0],\n",
       "       [ 2, 11,  4,  0,  0,  0],\n",
       "       [ 2,  3, 12, 13, 14,  0],\n",
       "       [15, 16, 17,  5, 18,  0],\n",
       "       [19,  2,  3, 20, 21, 22],\n",
       "       [ 4, 23,  0,  0,  0,  0],\n",
       "       [24,  0,  0,  0,  0,  0],\n",
       "       [25,  5, 26,  0,  0,  0]])"
      ]
     },
     "execution_count": 84,
     "metadata": {},
     "output_type": "execute_result"
    }
   ],
   "source": [
    "sequences = pad_sequences(sequence2 , padding='post' )\n",
    "sequences"
   ]
  },
  {
   "cell_type": "code",
   "execution_count": 85,
   "metadata": {},
   "outputs": [
    {
     "data": {
      "text/plain": [
       "(9, 6)"
      ]
     },
     "execution_count": 85,
     "metadata": {},
     "output_type": "execute_result"
    }
   ],
   "source": [
    "sequences.shape"
   ]
  },
  {
   "cell_type": "code",
   "execution_count": 86,
   "metadata": {},
   "outputs": [
    {
     "data": {
      "text/plain": [
       "26"
      ]
     },
     "execution_count": 86,
     "metadata": {},
     "output_type": "execute_result"
    }
   ],
   "source": [
    "len(Tokenizer.word_index)"
   ]
  },
  {
   "attachments": {},
   "cell_type": "markdown",
   "metadata": {},
   "source": [
    "### Embedding uniquewords = 25, outputmatrix = [2,2], inputlength means maxlength of word = 6"
   ]
  },
  {
   "cell_type": "code",
   "execution_count": 87,
   "metadata": {},
   "outputs": [],
   "source": [
    "vocab_size = 27\n",
    "embedding_dim = 2\n",
    "max_sequence_length = 6"
   ]
  },
  {
   "cell_type": "code",
   "execution_count": 88,
   "metadata": {},
   "outputs": [
    {
     "name": "stdout",
     "output_type": "stream",
     "text": [
      "Model: \"sequential_8\"\n",
      "_________________________________________________________________\n",
      " Layer (type)                Output Shape              Param #   \n",
      "=================================================================\n",
      " embedding_8 (Embedding)     (None, 6, 2)              54        \n",
      "                                                                 \n",
      "=================================================================\n",
      "Total params: 54 (216.00 Byte)\n",
      "Trainable params: 54 (216.00 Byte)\n",
      "Non-trainable params: 0 (0.00 Byte)\n",
      "_________________________________________________________________\n"
     ]
    }
   ],
   "source": [
    "model = Sequential()\n",
    "model.add(Embedding(input_dim=vocab_size, output_dim=embedding_dim, input_length=max_sequence_length))\n",
    "model.summary()"
   ]
  },
  {
   "cell_type": "code",
   "execution_count": 89,
   "metadata": {},
   "outputs": [],
   "source": [
    "model.compile(optimizer='adam', loss='mean_squared_error')"
   ]
  },
  {
   "cell_type": "code",
   "execution_count": 90,
   "metadata": {},
   "outputs": [
    {
     "name": "stdout",
     "output_type": "stream",
     "text": [
      "1/1 [==============================] - 0s 61ms/step\n",
      "[[[ 0.01425892  0.04953107]\n",
      "  [-0.01784085  0.02541028]\n",
      "  [ 0.02136542  0.02859923]\n",
      "  [ 0.00516356  0.03060845]\n",
      "  [-0.02403837 -0.02037185]\n",
      "  [-0.02403837 -0.02037185]]\n",
      "\n",
      " [[ 0.01425892  0.04953107]\n",
      "  [-0.01784085  0.02541028]\n",
      "  [-0.04433078  0.04116913]\n",
      "  [ 0.02023501  0.04203645]\n",
      "  [-0.02547871 -0.04237184]\n",
      "  [-0.02403837 -0.02037185]]\n",
      "\n",
      " [[ 0.01425892  0.04953107]\n",
      "  [ 0.03048917 -0.01824747]\n",
      "  [-0.0286803  -0.00287217]\n",
      "  [-0.02403837 -0.02037185]\n",
      "  [-0.02403837 -0.02037185]\n",
      "  [-0.02403837 -0.02037185]]\n",
      "\n",
      " [[ 0.01425892  0.04953107]\n",
      "  [-0.01784085  0.02541028]\n",
      "  [ 0.03726515 -0.03720424]\n",
      "  [-0.03252614 -0.03721142]\n",
      "  [ 0.03169713 -0.04874166]\n",
      "  [-0.02403837 -0.02037185]]\n",
      "\n",
      " [[ 0.00667368  0.00495888]\n",
      "  [-0.01539792 -0.0351084 ]\n",
      "  [-0.00565504 -0.00821749]\n",
      "  [-0.01379305 -0.01800972]\n",
      "  [ 0.03671098 -0.03450634]\n",
      "  [-0.02403837 -0.02037185]]\n",
      "\n",
      " [[ 0.00832546 -0.0013544 ]\n",
      "  [ 0.01425892  0.04953107]\n",
      "  [-0.01784085  0.02541028]\n",
      "  [ 0.00219246 -0.01739705]\n",
      "  [ 0.04736266 -0.00726096]\n",
      "  [-0.02917876  0.0057504 ]]\n",
      "\n",
      " [[-0.0286803  -0.00287217]\n",
      "  [ 0.02710377 -0.02696802]\n",
      "  [-0.02403837 -0.02037185]\n",
      "  [-0.02403837 -0.02037185]\n",
      "  [-0.02403837 -0.02037185]\n",
      "  [-0.02403837 -0.02037185]]\n",
      "\n",
      " [[-0.02157773  0.03745147]\n",
      "  [-0.02403837 -0.02037185]\n",
      "  [-0.02403837 -0.02037185]\n",
      "  [-0.02403837 -0.02037185]\n",
      "  [-0.02403837 -0.02037185]\n",
      "  [-0.02403837 -0.02037185]]\n",
      "\n",
      " [[-0.00674172 -0.04694561]\n",
      "  [-0.01379305 -0.01800972]\n",
      "  [ 0.01145332  0.01146372]\n",
      "  [-0.02403837 -0.02037185]\n",
      "  [-0.02403837 -0.02037185]\n",
      "  [-0.02403837 -0.02037185]]]\n"
     ]
    }
   ],
   "source": [
    "pred = model.predict(sequences)\n",
    "print(pred)"
   ]
  }
 ],
 "metadata": {
  "kernelspec": {
   "display_name": "Python 3",
   "language": "python",
   "name": "python3"
  },
  "language_info": {
   "codemirror_mode": {
    "name": "ipython",
    "version": 3
   },
   "file_extension": ".py",
   "mimetype": "text/x-python",
   "name": "python",
   "nbconvert_exporter": "python",
   "pygments_lexer": "ipython3",
   "version": "3.10.11"
  },
  "orig_nbformat": 4
 },
 "nbformat": 4,
 "nbformat_minor": 2
}
