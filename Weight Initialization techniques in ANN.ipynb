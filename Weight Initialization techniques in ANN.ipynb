{
 "cells": [
  {
   "cell_type": "code",
   "execution_count": 1,
   "metadata": {},
   "outputs": [],
   "source": [
    "import pandas as pd\n",
    "import numpy as np\n",
    "import matplotlib.pyplot as plt\n",
    "import tensorflow as tf\n",
    "import keras\n",
    "from  keras.layers import Dense\n",
    "from keras.models import Sequential\n",
    "from sklearn.datasets import make_classification\n"
   ]
  },
  {
   "cell_type": "code",
   "execution_count": 2,
   "metadata": {},
   "outputs": [],
   "source": [
    "X, y = make_classification(n_samples=100, n_features=2, n_informative=2, n_redundant=0, n_classes=2, random_state=42)"
   ]
  },
  {
   "cell_type": "code",
   "execution_count": 3,
   "metadata": {},
   "outputs": [
    {
     "data": {
      "text/plain": [
       "<matplotlib.collections.PathCollection at 0x2181eaf4760>"
      ]
     },
     "execution_count": 3,
     "metadata": {},
     "output_type": "execute_result"
    },
    {
     "data": {
      "image/png": "[encoded data removed]",
      "text/plain": [
       "<Figure size 640x480 with 1 Axes>"
      ]
     },
     "metadata": {},
     "output_type": "display_data"
    }
   ],
   "source": [
    "plt.scatter(X[:,0], X[:,1], c= y)"
   ]
  },
  {
   "cell_type": "code",
   "execution_count": 4,
   "metadata": {},
   "outputs": [
    {
     "name": "stdout",
     "output_type": "stream",
     "text": [
      "Model: \"sequential\"\n",
      "_________________________________________________________________\n",
      " Layer (type)                Output Shape              Param #   \n",
      "=================================================================\n",
      " dense (Dense)               (None, 2)                 6         \n",
      "                                                                 \n",
      " dense_1 (Dense)             (None, 1)                 3         \n",
      "                                                                 \n",
      "=================================================================\n",
      "Total params: 9 (36.00 Byte)\n",
      "Trainable params: 9 (36.00 Byte)\n",
      "Non-trainable params: 0 (0.00 Byte)\n",
      "_________________________________________________________________\n"
     ]
    }
   ],
   "source": [
    "model = Sequential()\n",
    "model.add(Dense(2, activation='relu', input_dim = 2))\n",
    "model.add(Dense(1, activation='sigmoid'))\n",
    "model.summary()\n"
   ]
  },
  {
   "cell_type": "code",
   "execution_count": 5,
   "metadata": {},
   "outputs": [
    {
     "data": {
      "text/plain": [
       "[array([[0.9715961 , 0.7622168 ],\n",
       "        [0.34230077, 0.5602522 ]], dtype=float32),\n",
       " array([0., 0.], dtype=float32),\n",
       " array([[-0.68236995],\n",
       "        [ 0.14848602]], dtype=float32),\n",
       " array([0.], dtype=float32)]"
      ]
     },
     "execution_count": 5,
     "metadata": {},
     "output_type": "execute_result"
    }
   ],
   "source": [
    "model.get_weights()"
   ]
  },
  {
   "cell_type": "code",
   "execution_count": 6,
   "metadata": {},
   "outputs": [],
   "source": [
    "initial_ws = model.get_weights()"
   ]
  },
  {
   "cell_type": "code",
   "execution_count": 7,
   "metadata": {},
   "outputs": [],
   "source": [
    "initial_ws[0] = np.zeros(model.get_weights()[0].shape)\n",
    "initial_ws[1] = np.zeros(model.get_weights()[1].shape)\n",
    "initial_ws[2]= np.zeros(model.get_weights()[2].shape)\n",
    "initial_ws[3] = np.zeros(model.get_weights()[3].shape)"
   ]
  },
  {
   "cell_type": "code",
   "execution_count": 8,
   "metadata": {},
   "outputs": [],
   "source": [
    "model.set_weights(initial_ws)"
   ]
  },
  {
   "cell_type": "code",
   "execution_count": 9,
   "metadata": {},
   "outputs": [
    {
     "name": "stdout",
     "output_type": "stream",
     "text": [
      "Epoch 1/100\n",
      "3/3 [==============================] - 1s 121ms/step - loss: 0.6932 - accuracy: 0.4375 - val_loss: 0.6932 - val_accuracy: 0.4500\n",
      "Epoch 2/100\n",
      "3/3 [==============================] - 0s 34ms/step - loss: 0.6931 - accuracy: 0.5125 - val_loss: 0.6932 - val_accuracy: 0.4500\n",
      "Epoch 3/100\n",
      "3/3 [==============================] - 0s 25ms/step - loss: 0.6932 - accuracy: 0.5125 - val_loss: 0.6932 - val_accuracy: 0.4500\n",
      "Epoch 4/100\n",
      "3/3 [==============================] - 0s 24ms/step - loss: 0.6931 - accuracy: 0.5125 - val_loss: 0.6932 - val_accuracy: 0.4500\n",
      "Epoch 5/100\n",
      "3/3 [==============================] - 0s 23ms/step - loss: 0.6931 - accuracy: 0.5125 - val_loss: 0.6932 - val_accuracy: 0.4500\n",
      "Epoch 6/100\n",
      "3/3 [==============================] - 0s 21ms/step - loss: 0.6932 - accuracy: 0.5125 - val_loss: 0.6932 - val_accuracy: 0.4500\n",
      "Epoch 7/100\n",
      "3/3 [==============================] - 0s 25ms/step - loss: 0.6931 - accuracy: 0.5125 - val_loss: 0.6932 - val_accuracy: 0.4500\n",
      "Epoch 8/100\n",
      "3/3 [==============================] - 0s 24ms/step - loss: 0.6931 - accuracy: 0.5125 - val_loss: 0.6932 - val_accuracy: 0.4500\n",
      "Epoch 9/100\n",
      "3/3 [==============================] - 0s 28ms/step - loss: 0.6931 - accuracy: 0.5125 - val_loss: 0.6932 - val_accuracy: 0.4500\n",
      "Epoch 10/100\n",
      "3/3 [==============================] - 0s 30ms/step - loss: 0.6931 - accuracy: 0.5125 - val_loss: 0.6933 - val_accuracy: 0.4500\n",
      "Epoch 11/100\n",
      "3/3 [==============================] - 0s 32ms/step - loss: 0.6931 - accuracy: 0.5125 - val_loss: 0.6933 - val_accuracy: 0.4500\n",
      "Epoch 12/100\n",
      "3/3 [==============================] - 0s 30ms/step - loss: 0.6931 - accuracy: 0.5125 - val_loss: 0.6933 - val_accuracy: 0.4500\n",
      "Epoch 13/100\n",
      "3/3 [==============================] - 0s 25ms/step - loss: 0.6931 - accuracy: 0.5125 - val_loss: 0.6933 - val_accuracy: 0.4500\n",
      "Epoch 14/100\n",
      "3/3 [==============================] - 0s 38ms/step - loss: 0.6931 - accuracy: 0.5125 - val_loss: 0.6933 - val_accuracy: 0.4500\n",
      "Epoch 15/100\n",
      "3/3 [==============================] - 0s 49ms/step - loss: 0.6931 - accuracy: 0.5125 - val_loss: 0.6934 - val_accuracy: 0.4500\n",
      "Epoch 16/100\n",
      "3/3 [==============================] - 0s 27ms/step - loss: 0.6931 - accuracy: 0.5125 - val_loss: 0.6934 - val_accuracy: 0.4500\n",
      "Epoch 17/100\n",
      "3/3 [==============================] - 0s 20ms/step - loss: 0.6931 - accuracy: 0.5125 - val_loss: 0.6934 - val_accuracy: 0.4500\n",
      "Epoch 18/100\n",
      "3/3 [==============================] - 0s 21ms/step - loss: 0.6931 - accuracy: 0.5125 - val_loss: 0.6935 - val_accuracy: 0.4500\n",
      "Epoch 19/100\n",
      "3/3 [==============================] - 0s 24ms/step - loss: 0.6931 - accuracy: 0.5125 - val_loss: 0.6935 - val_accuracy: 0.4500\n",
      "Epoch 20/100\n",
      "3/3 [==============================] - 0s 24ms/step - loss: 0.6931 - accuracy: 0.5125 - val_loss: 0.6935 - val_accuracy: 0.4500\n",
      "Epoch 21/100\n",
      "3/3 [==============================] - 0s 23ms/step - loss: 0.6931 - accuracy: 0.5125 - val_loss: 0.6935 - val_accuracy: 0.4500\n",
      "Epoch 22/100\n",
      "3/3 [==============================] - 0s 21ms/step - loss: 0.6931 - accuracy: 0.5125 - val_loss: 0.6936 - val_accuracy: 0.4500\n",
      "Epoch 23/100\n",
      "3/3 [==============================] - 0s 27ms/step - loss: 0.6931 - accuracy: 0.5125 - val_loss: 0.6936 - val_accuracy: 0.4500\n",
      "Epoch 24/100\n",
      "3/3 [==============================] - 0s 28ms/step - loss: 0.6931 - accuracy: 0.5125 - val_loss: 0.6936 - val_accuracy: 0.4500\n",
      "Epoch 25/100\n",
      "3/3 [==============================] - 0s 26ms/step - loss: 0.6931 - accuracy: 0.5125 - val_loss: 0.6936 - val_accuracy: 0.4500\n",
      "Epoch 26/100\n",
      "3/3 [==============================] - 0s 26ms/step - loss: 0.6931 - accuracy: 0.5125 - val_loss: 0.6936 - val_accuracy: 0.4500\n",
      "Epoch 27/100\n",
      "3/3 [==============================] - 0s 23ms/step - loss: 0.6931 - accuracy: 0.5125 - val_loss: 0.6936 - val_accuracy: 0.4500\n",
      "Epoch 28/100\n",
      "3/3 [==============================] - 0s 21ms/step - loss: 0.6930 - accuracy: 0.5125 - val_loss: 0.6936 - val_accuracy: 0.4500\n",
      "Epoch 29/100\n",
      "3/3 [==============================] - 0s 22ms/step - loss: 0.6931 - accuracy: 0.5125 - val_loss: 0.6936 - val_accuracy: 0.4500\n",
      "Epoch 30/100\n",
      "3/3 [==============================] - 0s 19ms/step - loss: 0.6930 - accuracy: 0.5125 - val_loss: 0.6936 - val_accuracy: 0.4500\n",
      "Epoch 31/100\n",
      "3/3 [==============================] - 0s 23ms/step - loss: 0.6930 - accuracy: 0.5125 - val_loss: 0.6936 - val_accuracy: 0.4500\n",
      "Epoch 32/100\n",
      "3/3 [==============================] - 0s 23ms/step - loss: 0.6930 - accuracy: 0.5125 - val_loss: 0.6936 - val_accuracy: 0.4500\n",
      "Epoch 33/100\n",
      "3/3 [==============================] - 0s 22ms/step - loss: 0.6930 - accuracy: 0.5125 - val_loss: 0.6937 - val_accuracy: 0.4500\n",
      "Epoch 34/100\n",
      "3/3 [==============================] - 0s 21ms/step - loss: 0.6930 - accuracy: 0.5125 - val_loss: 0.6937 - val_accuracy: 0.4500\n",
      "Epoch 35/100\n",
      "3/3 [==============================] - 0s 23ms/step - loss: 0.6930 - accuracy: 0.5125 - val_loss: 0.6937 - val_accuracy: 0.4500\n",
      "Epoch 36/100\n",
      "3/3 [==============================] - 0s 24ms/step - loss: 0.6930 - accuracy: 0.5125 - val_loss: 0.6937 - val_accuracy: 0.4500\n",
      "Epoch 37/100\n",
      "3/3 [==============================] - 0s 29ms/step - loss: 0.6930 - accuracy: 0.5125 - val_loss: 0.6937 - val_accuracy: 0.4500\n",
      "Epoch 38/100\n",
      "3/3 [==============================] - 0s 25ms/step - loss: 0.6930 - accuracy: 0.5125 - val_loss: 0.6937 - val_accuracy: 0.4500\n",
      "Epoch 39/100\n",
      "3/3 [==============================] - 0s 25ms/step - loss: 0.6930 - accuracy: 0.5125 - val_loss: 0.6937 - val_accuracy: 0.4500\n",
      "Epoch 40/100\n",
      "3/3 [==============================] - 0s 25ms/step - loss: 0.6930 - accuracy: 0.5125 - val_loss: 0.6937 - val_accuracy: 0.4500\n",
      "Epoch 41/100\n",
      "3/3 [==============================] - 0s 24ms/step - loss: 0.6930 - accuracy: 0.5125 - val_loss: 0.6938 - val_accuracy: 0.4500\n",
      "Epoch 42/100\n",
      "3/3 [==============================] - 0s 25ms/step - loss: 0.6930 - accuracy: 0.5125 - val_loss: 0.6938 - val_accuracy: 0.4500\n",
      "Epoch 43/100\n",
      "3/3 [==============================] - 0s 25ms/step - loss: 0.6930 - accuracy: 0.5125 - val_loss: 0.6938 - val_accuracy: 0.4500\n",
      "Epoch 44/100\n",
      "3/3 [==============================] - 0s 24ms/step - loss: 0.6930 - accuracy: 0.5125 - val_loss: 0.6938 - val_accuracy: 0.4500\n",
      "Epoch 45/100\n",
      "3/3 [==============================] - 0s 26ms/step - loss: 0.6930 - accuracy: 0.5125 - val_loss: 0.6938 - val_accuracy: 0.4500\n",
      "Epoch 46/100\n",
      "3/3 [==============================] - 0s 24ms/step - loss: 0.6930 - accuracy: 0.5125 - val_loss: 0.6939 - val_accuracy: 0.4500\n",
      "Epoch 47/100\n",
      "3/3 [==============================] - 0s 24ms/step - loss: 0.6930 - accuracy: 0.5125 - val_loss: 0.6939 - val_accuracy: 0.4500\n",
      "Epoch 48/100\n",
      "3/3 [==============================] - 0s 39ms/step - loss: 0.6930 - accuracy: 0.5125 - val_loss: 0.6939 - val_accuracy: 0.4500\n",
      "Epoch 49/100\n",
      "3/3 [==============================] - 0s 27ms/step - loss: 0.6930 - accuracy: 0.5125 - val_loss: 0.6939 - val_accuracy: 0.4500\n",
      "Epoch 50/100\n",
      "3/3 [==============================] - 0s 26ms/step - loss: 0.6930 - accuracy: 0.5125 - val_loss: 0.6939 - val_accuracy: 0.4500\n",
      "Epoch 51/100\n",
      "3/3 [==============================] - 0s 23ms/step - loss: 0.6930 - accuracy: 0.5125 - val_loss: 0.6939 - val_accuracy: 0.4500\n",
      "Epoch 52/100\n",
      "3/3 [==============================] - 0s 23ms/step - loss: 0.6930 - accuracy: 0.5125 - val_loss: 0.6939 - val_accuracy: 0.4500\n",
      "Epoch 53/100\n",
      "3/3 [==============================] - 0s 22ms/step - loss: 0.6930 - accuracy: 0.5125 - val_loss: 0.6939 - val_accuracy: 0.4500\n",
      "Epoch 54/100\n",
      "3/3 [==============================] - 0s 24ms/step - loss: 0.6930 - accuracy: 0.5125 - val_loss: 0.6940 - val_accuracy: 0.4500\n",
      "Epoch 55/100\n",
      "3/3 [==============================] - 0s 26ms/step - loss: 0.6930 - accuracy: 0.5125 - val_loss: 0.6940 - val_accuracy: 0.4500\n",
      "Epoch 56/100\n",
      "3/3 [==============================] - 0s 24ms/step - loss: 0.6930 - accuracy: 0.5125 - val_loss: 0.6940 - val_accuracy: 0.4500\n",
      "Epoch 57/100\n",
      "3/3 [==============================] - 0s 24ms/step - loss: 0.6930 - accuracy: 0.5125 - val_loss: 0.6940 - val_accuracy: 0.4500\n",
      "Epoch 58/100\n",
      "3/3 [==============================] - 0s 28ms/step - loss: 0.6930 - accuracy: 0.5125 - val_loss: 0.6940 - val_accuracy: 0.4500\n",
      "Epoch 59/100\n",
      "3/3 [==============================] - 0s 33ms/step - loss: 0.6930 - accuracy: 0.5125 - val_loss: 0.6941 - val_accuracy: 0.4500\n",
      "Epoch 60/100\n",
      "3/3 [==============================] - 0s 22ms/step - loss: 0.6930 - accuracy: 0.5125 - val_loss: 0.6941 - val_accuracy: 0.4500\n",
      "Epoch 61/100\n",
      "3/3 [==============================] - 0s 20ms/step - loss: 0.6930 - accuracy: 0.5125 - val_loss: 0.6941 - val_accuracy: 0.4500\n",
      "Epoch 62/100\n",
      "3/3 [==============================] - 0s 25ms/step - loss: 0.6930 - accuracy: 0.5125 - val_loss: 0.6941 - val_accuracy: 0.4500\n",
      "Epoch 63/100\n",
      "3/3 [==============================] - 0s 22ms/step - loss: 0.6930 - accuracy: 0.5125 - val_loss: 0.6941 - val_accuracy: 0.4500\n",
      "Epoch 64/100\n",
      "3/3 [==============================] - 0s 20ms/step - loss: 0.6930 - accuracy: 0.5125 - val_loss: 0.6941 - val_accuracy: 0.4500\n",
      "Epoch 65/100\n",
      "3/3 [==============================] - 0s 22ms/step - loss: 0.6930 - accuracy: 0.5125 - val_loss: 0.6941 - val_accuracy: 0.4500\n",
      "Epoch 66/100\n",
      "3/3 [==============================] - 0s 20ms/step - loss: 0.6930 - accuracy: 0.5125 - val_loss: 0.6942 - val_accuracy: 0.4500\n",
      "Epoch 67/100\n",
      "3/3 [==============================] - 0s 30ms/step - loss: 0.6930 - accuracy: 0.5125 - val_loss: 0.6942 - val_accuracy: 0.4500\n",
      "Epoch 68/100\n",
      "3/3 [==============================] - 0s 56ms/step - loss: 0.6930 - accuracy: 0.5125 - val_loss: 0.6942 - val_accuracy: 0.4500\n",
      "Epoch 69/100\n",
      "3/3 [==============================] - 0s 26ms/step - loss: 0.6929 - accuracy: 0.5125 - val_loss: 0.6942 - val_accuracy: 0.4500\n",
      "Epoch 70/100\n",
      "3/3 [==============================] - 0s 21ms/step - loss: 0.6929 - accuracy: 0.5125 - val_loss: 0.6942 - val_accuracy: 0.4500\n",
      "Epoch 71/100\n",
      "3/3 [==============================] - 0s 22ms/step - loss: 0.6929 - accuracy: 0.5125 - val_loss: 0.6943 - val_accuracy: 0.4500\n",
      "Epoch 72/100\n",
      "3/3 [==============================] - 0s 23ms/step - loss: 0.6929 - accuracy: 0.5125 - val_loss: 0.6943 - val_accuracy: 0.4500\n",
      "Epoch 73/100\n",
      "3/3 [==============================] - 0s 22ms/step - loss: 0.6929 - accuracy: 0.5125 - val_loss: 0.6943 - val_accuracy: 0.4500\n",
      "Epoch 74/100\n",
      "3/3 [==============================] - 0s 22ms/step - loss: 0.6929 - accuracy: 0.5125 - val_loss: 0.6943 - val_accuracy: 0.4500\n",
      "Epoch 75/100\n",
      "3/3 [==============================] - 0s 22ms/step - loss: 0.6929 - accuracy: 0.5125 - val_loss: 0.6943 - val_accuracy: 0.4500\n",
      "Epoch 76/100\n",
      "3/3 [==============================] - 0s 30ms/step - loss: 0.6929 - accuracy: 0.5125 - val_loss: 0.6944 - val_accuracy: 0.4500\n",
      "Epoch 77/100\n",
      "3/3 [==============================] - 0s 33ms/step - loss: 0.6929 - accuracy: 0.5125 - val_loss: 0.6944 - val_accuracy: 0.4500\n",
      "Epoch 78/100\n",
      "3/3 [==============================] - 0s 25ms/step - loss: 0.6929 - accuracy: 0.5125 - val_loss: 0.6944 - val_accuracy: 0.4500\n",
      "Epoch 79/100\n",
      "3/3 [==============================] - 0s 24ms/step - loss: 0.6929 - accuracy: 0.5125 - val_loss: 0.6944 - val_accuracy: 0.4500\n",
      "Epoch 80/100\n",
      "3/3 [==============================] - 0s 20ms/step - loss: 0.6929 - accuracy: 0.5125 - val_loss: 0.6944 - val_accuracy: 0.4500\n",
      "Epoch 81/100\n",
      "3/3 [==============================] - 0s 21ms/step - loss: 0.6929 - accuracy: 0.5125 - val_loss: 0.6945 - val_accuracy: 0.4500\n",
      "Epoch 82/100\n",
      "3/3 [==============================] - 0s 38ms/step - loss: 0.6929 - accuracy: 0.5125 - val_loss: 0.6945 - val_accuracy: 0.4500\n",
      "Epoch 83/100\n",
      "3/3 [==============================] - 0s 22ms/step - loss: 0.6929 - accuracy: 0.5125 - val_loss: 0.6945 - val_accuracy: 0.4500\n",
      "Epoch 84/100\n",
      "3/3 [==============================] - 0s 25ms/step - loss: 0.6929 - accuracy: 0.5125 - val_loss: 0.6945 - val_accuracy: 0.4500\n",
      "Epoch 85/100\n",
      "3/3 [==============================] - 0s 26ms/step - loss: 0.6929 - accuracy: 0.5125 - val_loss: 0.6945 - val_accuracy: 0.4500\n",
      "Epoch 86/100\n",
      "3/3 [==============================] - 0s 24ms/step - loss: 0.6929 - accuracy: 0.5125 - val_loss: 0.6946 - val_accuracy: 0.4500\n",
      "Epoch 87/100\n",
      "3/3 [==============================] - 0s 25ms/step - loss: 0.6929 - accuracy: 0.5125 - val_loss: 0.6946 - val_accuracy: 0.4500\n",
      "Epoch 88/100\n",
      "3/3 [==============================] - 0s 23ms/step - loss: 0.6929 - accuracy: 0.5125 - val_loss: 0.6946 - val_accuracy: 0.4500\n",
      "Epoch 89/100\n",
      "3/3 [==============================] - 0s 25ms/step - loss: 0.6929 - accuracy: 0.5125 - val_loss: 0.6947 - val_accuracy: 0.4500\n",
      "Epoch 90/100\n",
      "3/3 [==============================] - 0s 27ms/step - loss: 0.6929 - accuracy: 0.5125 - val_loss: 0.6947 - val_accuracy: 0.4500\n",
      "Epoch 91/100\n",
      "3/3 [==============================] - 0s 27ms/step - loss: 0.6929 - accuracy: 0.5125 - val_loss: 0.6947 - val_accuracy: 0.4500\n",
      "Epoch 92/100\n",
      "3/3 [==============================] - 0s 27ms/step - loss: 0.6929 - accuracy: 0.5125 - val_loss: 0.6947 - val_accuracy: 0.4500\n",
      "Epoch 93/100\n",
      "3/3 [==============================] - 0s 26ms/step - loss: 0.6929 - accuracy: 0.5125 - val_loss: 0.6947 - val_accuracy: 0.4500\n",
      "Epoch 94/100\n",
      "3/3 [==============================] - 0s 27ms/step - loss: 0.6929 - accuracy: 0.5125 - val_loss: 0.6947 - val_accuracy: 0.4500\n",
      "Epoch 95/100\n",
      "3/3 [==============================] - 0s 27ms/step - loss: 0.6929 - accuracy: 0.5125 - val_loss: 0.6948 - val_accuracy: 0.4500\n",
      "Epoch 96/100\n",
      "3/3 [==============================] - 0s 30ms/step - loss: 0.6929 - accuracy: 0.5125 - val_loss: 0.6948 - val_accuracy: 0.4500\n",
      "Epoch 97/100\n",
      "3/3 [==============================] - 0s 28ms/step - loss: 0.6929 - accuracy: 0.5125 - val_loss: 0.6948 - val_accuracy: 0.4500\n",
      "Epoch 98/100\n",
      "3/3 [==============================] - 0s 26ms/step - loss: 0.6929 - accuracy: 0.5125 - val_loss: 0.6949 - val_accuracy: 0.4500\n",
      "Epoch 99/100\n",
      "3/3 [==============================] - 0s 28ms/step - loss: 0.6929 - accuracy: 0.5125 - val_loss: 0.6949 - val_accuracy: 0.4500\n",
      "Epoch 100/100\n",
      "3/3 [==============================] - 0s 26ms/step - loss: 0.6929 - accuracy: 0.5125 - val_loss: 0.6949 - val_accuracy: 0.4500\n"
     ]
    },
    {
     "data": {
      "text/plain": [
       "<keras.src.callbacks.History at 0x21820d0e050>"
      ]
     },
     "execution_count": 9,
     "metadata": {},
     "output_type": "execute_result"
    }
   ],
   "source": [
    "model.compile(loss='binary_crossentropy', optimizer='adam',metrics= ['accuracy'])\n",
    "model.fit(X,y,epochs=100, validation_split=0.2)"
   ]
  },
  {
   "cell_type": "code",
   "execution_count": 10,
   "metadata": {},
   "outputs": [
    {
     "name": "stdout",
     "output_type": "stream",
     "text": [
      "9600/9600 [==============================] - 12s 1ms/step\n"
     ]
    },
    {
     "data": {
      "text/plain": [
       "<Axes: >"
      ]
     },
     "execution_count": 10,
     "metadata": {},
     "output_type": "execute_result"
    },
    {
     "data": {
      "image/png": "[encoded data removed]",
      "text/plain": [
       "<Figure size 640x480 with 1 Axes>"
      ]
     },
     "metadata": {},
     "output_type": "display_data"
    }
   ],
   "source": [
    "from mlxtend.plotting import plot_decision_regions\n",
    "plot_decision_regions(X,y,clf=model)"
   ]
  },
  {
   "attachments": {},
   "cell_type": "markdown",
   "metadata": {},
   "source": [
    "#### Now if we set all the weights to 0.5 a constant value "
   ]
  },
  {
   "cell_type": "code",
   "execution_count": 11,
   "metadata": {},
   "outputs": [],
   "source": [
    "initial_ws[0] = np.ones(model.get_weights()[0].shape)*0.5\n",
    "initial_ws[1] = np.ones(model.get_weights()[1].shape)*0.5\n",
    "initial_ws[2] = np.ones(model.get_weights()[2].shape)*0.5\n",
    "initial_ws[3] = np.ones(model.get_weights()[3].shape)*0.5"
   ]
  },
  {
   "cell_type": "code",
   "execution_count": 12,
   "metadata": {},
   "outputs": [],
   "source": [
    "model.set_weights(initial_ws)"
   ]
  },
  {
   "cell_type": "code",
   "execution_count": 13,
   "metadata": {},
   "outputs": [
    {
     "data": {
      "text/plain": [
       "[array([[0.5, 0.5],\n",
       "        [0.5, 0.5]], dtype=float32),\n",
       " array([0.5, 0.5], dtype=float32),\n",
       " array([[0.5],\n",
       "        [0.5]], dtype=float32),\n",
       " array([0.5], dtype=float32)]"
      ]
     },
     "execution_count": 13,
     "metadata": {},
     "output_type": "execute_result"
    }
   ],
   "source": [
    "model.get_weights()"
   ]
  },
  {
   "cell_type": "code",
   "execution_count": 14,
   "metadata": {},
   "outputs": [
    {
     "name": "stdout",
     "output_type": "stream",
     "text": [
      "Epoch 1/100\n",
      "4/4 [==============================] - 0s 3ms/step - loss: 0.7054 - accuracy: 0.5000\n",
      "Epoch 2/100\n",
      "4/4 [==============================] - 0s 3ms/step - loss: 0.7005 - accuracy: 0.5000\n",
      "Epoch 3/100\n",
      "4/4 [==============================] - 0s 3ms/step - loss: 0.6944 - accuracy: 0.5000\n",
      "Epoch 4/100\n",
      "4/4 [==============================] - 0s 3ms/step - loss: 0.6881 - accuracy: 0.5000\n",
      "Epoch 5/100\n",
      "4/4 [==============================] - 0s 5ms/step - loss: 0.6824 - accuracy: 0.5000\n",
      "Epoch 6/100\n",
      "4/4 [==============================] - 0s 4ms/step - loss: 0.6762 - accuracy: 0.5000\n",
      "Epoch 7/100\n",
      "4/4 [==============================] - 0s 4ms/step - loss: 0.6703 - accuracy: 0.5000\n",
      "Epoch 8/100\n",
      "4/4 [==============================] - 0s 4ms/step - loss: 0.6648 - accuracy: 0.5000\n",
      "Epoch 9/100\n",
      "4/4 [==============================] - 0s 3ms/step - loss: 0.6597 - accuracy: 0.5000\n",
      "Epoch 10/100\n",
      "4/4 [==============================] - 0s 3ms/step - loss: 0.6547 - accuracy: 0.5000\n",
      "Epoch 11/100\n",
      "4/4 [==============================] - 0s 4ms/step - loss: 0.6502 - accuracy: 0.5000\n",
      "Epoch 12/100\n",
      "4/4 [==============================] - 0s 3ms/step - loss: 0.6456 - accuracy: 0.5000\n",
      "Epoch 13/100\n",
      "4/4 [==============================] - 0s 3ms/step - loss: 0.6417 - accuracy: 0.5000\n",
      "Epoch 14/100\n",
      "4/4 [==============================] - 0s 3ms/step - loss: 0.6377 - accuracy: 0.5000\n",
      "Epoch 15/100\n",
      "4/4 [==============================] - 0s 3ms/step - loss: 0.6340 - accuracy: 0.5000\n",
      "Epoch 16/100\n",
      "4/4 [==============================] - 0s 3ms/step - loss: 0.6305 - accuracy: 0.5000\n",
      "Epoch 17/100\n",
      "4/4 [==============================] - 0s 3ms/step - loss: 0.6271 - accuracy: 0.5000\n",
      "Epoch 18/100\n",
      "4/4 [==============================] - 0s 3ms/step - loss: 0.6240 - accuracy: 0.5000\n",
      "Epoch 19/100\n",
      "4/4 [==============================] - 0s 3ms/step - loss: 0.6208 - accuracy: 0.5000\n",
      "Epoch 20/100\n",
      "4/4 [==============================] - 0s 2ms/step - loss: 0.6176 - accuracy: 0.5000\n",
      "Epoch 21/100\n",
      "4/4 [==============================] - 0s 3ms/step - loss: 0.6145 - accuracy: 0.5000\n",
      "Epoch 22/100\n",
      "4/4 [==============================] - 0s 3ms/step - loss: 0.6117 - accuracy: 0.5000\n",
      "Epoch 23/100\n",
      "4/4 [==============================] - 0s 3ms/step - loss: 0.6088 - accuracy: 0.5000\n",
      "Epoch 24/100\n",
      "4/4 [==============================] - 0s 4ms/step - loss: 0.6059 - accuracy: 0.5000\n",
      "Epoch 25/100\n",
      "4/4 [==============================] - 0s 2ms/step - loss: 0.6030 - accuracy: 0.5000\n",
      "Epoch 26/100\n",
      "4/4 [==============================] - 0s 3ms/step - loss: 0.6001 - accuracy: 0.5000\n",
      "Epoch 27/100\n",
      "4/4 [==============================] - 0s 3ms/step - loss: 0.5972 - accuracy: 0.5000\n",
      "Epoch 28/100\n",
      "4/4 [==============================] - 0s 3ms/step - loss: 0.5941 - accuracy: 0.5000\n",
      "Epoch 29/100\n",
      "4/4 [==============================] - 0s 3ms/step - loss: 0.5913 - accuracy: 0.5000\n",
      "Epoch 30/100\n",
      "4/4 [==============================] - 0s 3ms/step - loss: 0.5883 - accuracy: 0.5000\n",
      "Epoch 31/100\n",
      "4/4 [==============================] - 0s 3ms/step - loss: 0.5855 - accuracy: 0.5000\n",
      "Epoch 32/100\n",
      "4/4 [==============================] - 0s 11ms/step - loss: 0.5830 - accuracy: 0.5000\n",
      "Epoch 33/100\n",
      "4/4 [==============================] - 0s 4ms/step - loss: 0.5805 - accuracy: 0.5000\n",
      "Epoch 34/100\n",
      "4/4 [==============================] - 0s 4ms/step - loss: 0.5779 - accuracy: 0.5000\n",
      "Epoch 35/100\n",
      "4/4 [==============================] - 0s 4ms/step - loss: 0.5753 - accuracy: 0.5000\n",
      "Epoch 36/100\n",
      "4/4 [==============================] - 0s 4ms/step - loss: 0.5727 - accuracy: 0.5000\n",
      "Epoch 37/100\n",
      "4/4 [==============================] - 0s 9ms/step - loss: 0.5702 - accuracy: 0.5000\n",
      "Epoch 38/100\n",
      "4/4 [==============================] - 0s 4ms/step - loss: 0.5677 - accuracy: 0.5000\n",
      "Epoch 39/100\n",
      "4/4 [==============================] - 0s 4ms/step - loss: 0.5652 - accuracy: 0.5000\n",
      "Epoch 40/100\n",
      "4/4 [==============================] - 0s 3ms/step - loss: 0.5627 - accuracy: 0.5000\n",
      "Epoch 41/100\n",
      "4/4 [==============================] - 0s 3ms/step - loss: 0.5601 - accuracy: 0.5000\n",
      "Epoch 42/100\n",
      "4/4 [==============================] - 0s 3ms/step - loss: 0.5574 - accuracy: 0.5000\n",
      "Epoch 43/100\n",
      "4/4 [==============================] - 0s 3ms/step - loss: 0.5547 - accuracy: 0.5000\n",
      "Epoch 44/100\n",
      "4/4 [==============================] - 0s 3ms/step - loss: 0.5521 - accuracy: 0.5000\n",
      "Epoch 45/100\n",
      "4/4 [==============================] - 0s 3ms/step - loss: 0.5497 - accuracy: 0.5000\n",
      "Epoch 46/100\n",
      "4/4 [==============================] - 0s 3ms/step - loss: 0.5472 - accuracy: 0.5000\n",
      "Epoch 47/100\n",
      "4/4 [==============================] - 0s 2ms/step - loss: 0.5446 - accuracy: 0.5000\n",
      "Epoch 48/100\n",
      "4/4 [==============================] - 0s 3ms/step - loss: 0.5422 - accuracy: 0.5000\n",
      "Epoch 49/100\n",
      "4/4 [==============================] - 0s 2ms/step - loss: 0.5399 - accuracy: 0.5000\n",
      "Epoch 50/100\n",
      "4/4 [==============================] - 0s 3ms/step - loss: 0.5376 - accuracy: 0.5000\n",
      "Epoch 51/100\n",
      "4/4 [==============================] - 0s 3ms/step - loss: 0.5355 - accuracy: 0.5000\n",
      "Epoch 52/100\n",
      "4/4 [==============================] - 0s 3ms/step - loss: 0.5332 - accuracy: 0.5000\n",
      "Epoch 53/100\n",
      "4/4 [==============================] - 0s 3ms/step - loss: 0.5310 - accuracy: 0.5000\n",
      "Epoch 54/100\n",
      "4/4 [==============================] - 0s 3ms/step - loss: 0.5289 - accuracy: 0.5000\n",
      "Epoch 55/100\n",
      "4/4 [==============================] - 0s 3ms/step - loss: 0.5267 - accuracy: 0.5000\n",
      "Epoch 56/100\n",
      "4/4 [==============================] - 0s 3ms/step - loss: 0.5245 - accuracy: 0.5000\n",
      "Epoch 57/100\n",
      "4/4 [==============================] - 0s 3ms/step - loss: 0.5223 - accuracy: 0.5000\n",
      "Epoch 58/100\n",
      "4/4 [==============================] - 0s 3ms/step - loss: 0.5201 - accuracy: 0.5000\n",
      "Epoch 59/100\n",
      "4/4 [==============================] - 0s 3ms/step - loss: 0.5179 - accuracy: 0.5000\n",
      "Epoch 60/100\n",
      "4/4 [==============================] - 0s 3ms/step - loss: 0.5158 - accuracy: 0.5000\n",
      "Epoch 61/100\n",
      "4/4 [==============================] - 0s 3ms/step - loss: 0.5135 - accuracy: 0.5000\n",
      "Epoch 62/100\n",
      "4/4 [==============================] - 0s 3ms/step - loss: 0.5113 - accuracy: 0.5000\n",
      "Epoch 63/100\n",
      "4/4 [==============================] - 0s 3ms/step - loss: 0.5091 - accuracy: 0.5000\n",
      "Epoch 64/100\n",
      "4/4 [==============================] - 0s 3ms/step - loss: 0.5068 - accuracy: 0.5000\n",
      "Epoch 65/100\n",
      "4/4 [==============================] - 0s 3ms/step - loss: 0.5046 - accuracy: 0.5000\n",
      "Epoch 66/100\n",
      "4/4 [==============================] - 0s 3ms/step - loss: 0.5024 - accuracy: 0.5000\n",
      "Epoch 67/100\n",
      "4/4 [==============================] - 0s 3ms/step - loss: 0.5002 - accuracy: 0.5000\n",
      "Epoch 68/100\n",
      "4/4 [==============================] - 0s 3ms/step - loss: 0.4979 - accuracy: 0.5000\n",
      "Epoch 69/100\n",
      "4/4 [==============================] - 0s 3ms/step - loss: 0.4957 - accuracy: 0.5000\n",
      "Epoch 70/100\n",
      "4/4 [==============================] - 0s 3ms/step - loss: 0.4937 - accuracy: 0.5000\n",
      "Epoch 71/100\n",
      "4/4 [==============================] - 0s 3ms/step - loss: 0.4916 - accuracy: 0.5000\n",
      "Epoch 72/100\n",
      "4/4 [==============================] - 0s 3ms/step - loss: 0.4897 - accuracy: 0.5000\n",
      "Epoch 73/100\n",
      "4/4 [==============================] - 0s 3ms/step - loss: 0.4877 - accuracy: 0.5000\n",
      "Epoch 74/100\n",
      "4/4 [==============================] - 0s 3ms/step - loss: 0.4858 - accuracy: 0.5000\n",
      "Epoch 75/100\n",
      "4/4 [==============================] - 0s 3ms/step - loss: 0.4839 - accuracy: 0.5000\n",
      "Epoch 76/100\n",
      "4/4 [==============================] - 0s 2ms/step - loss: 0.4821 - accuracy: 0.5000\n",
      "Epoch 77/100\n",
      "4/4 [==============================] - 0s 3ms/step - loss: 0.4802 - accuracy: 0.5000\n",
      "Epoch 78/100\n",
      "4/4 [==============================] - 0s 2ms/step - loss: 0.4783 - accuracy: 0.5000\n",
      "Epoch 79/100\n",
      "4/4 [==============================] - 0s 3ms/step - loss: 0.4764 - accuracy: 0.5000\n",
      "Epoch 80/100\n",
      "4/4 [==============================] - 0s 3ms/step - loss: 0.4745 - accuracy: 0.5000\n",
      "Epoch 81/100\n",
      "4/4 [==============================] - 0s 3ms/step - loss: 0.4726 - accuracy: 0.5000\n",
      "Epoch 82/100\n",
      "4/4 [==============================] - 0s 3ms/step - loss: 0.4708 - accuracy: 0.5000\n",
      "Epoch 83/100\n",
      "4/4 [==============================] - 0s 3ms/step - loss: 0.4690 - accuracy: 0.5000\n",
      "Epoch 84/100\n",
      "4/4 [==============================] - 0s 3ms/step - loss: 0.4671 - accuracy: 0.5000\n",
      "Epoch 85/100\n",
      "4/4 [==============================] - 0s 3ms/step - loss: 0.4653 - accuracy: 0.5000\n",
      "Epoch 86/100\n",
      "4/4 [==============================] - 0s 2ms/step - loss: 0.4635 - accuracy: 0.5000\n",
      "Epoch 87/100\n",
      "4/4 [==============================] - 0s 3ms/step - loss: 0.4616 - accuracy: 0.5000\n",
      "Epoch 88/100\n",
      "4/4 [==============================] - 0s 3ms/step - loss: 0.4598 - accuracy: 0.5000\n",
      "Epoch 89/100\n",
      "4/4 [==============================] - 0s 3ms/step - loss: 0.4580 - accuracy: 0.5000\n",
      "Epoch 90/100\n",
      "4/4 [==============================] - 0s 3ms/step - loss: 0.4562 - accuracy: 0.5000\n",
      "Epoch 91/100\n",
      "4/4 [==============================] - 0s 3ms/step - loss: 0.4544 - accuracy: 0.5000\n",
      "Epoch 92/100\n",
      "4/4 [==============================] - 0s 3ms/step - loss: 0.4526 - accuracy: 0.5000\n",
      "Epoch 93/100\n",
      "4/4 [==============================] - 0s 3ms/step - loss: 0.4508 - accuracy: 0.5000\n",
      "Epoch 94/100\n",
      "4/4 [==============================] - 0s 3ms/step - loss: 0.4491 - accuracy: 0.5000\n",
      "Epoch 95/100\n",
      "4/4 [==============================] - 0s 3ms/step - loss: 0.4473 - accuracy: 0.5000\n",
      "Epoch 96/100\n",
      "4/4 [==============================] - 0s 6ms/step - loss: 0.4456 - accuracy: 0.5000\n",
      "Epoch 97/100\n",
      "4/4 [==============================] - 0s 4ms/step - loss: 0.4440 - accuracy: 0.5000\n",
      "Epoch 98/100\n",
      "4/4 [==============================] - 0s 6ms/step - loss: 0.4423 - accuracy: 0.5000\n",
      "Epoch 99/100\n",
      "4/4 [==============================] - 0s 4ms/step - loss: 0.4407 - accuracy: 0.5000\n",
      "Epoch 100/100\n",
      "4/4 [==============================] - 0s 8ms/step - loss: 0.4391 - accuracy: 0.5000\n"
     ]
    },
    {
     "data": {
      "text/plain": [
       "<keras.src.callbacks.History at 0x21824a59ff0>"
      ]
     },
     "execution_count": 14,
     "metadata": {},
     "output_type": "execute_result"
    }
   ],
   "source": [
    "model.fit(X,y,epochs=100)"
   ]
  },
  {
   "cell_type": "code",
   "execution_count": 16,
   "metadata": {},
   "outputs": [
    {
     "name": "stdout",
     "output_type": "stream",
     "text": [
      "9600/9600 [==============================] - 12s 1ms/step\n"
     ]
    },
    {
     "data": {
      "text/plain": [
       "<Axes: >"
      ]
     },
     "execution_count": 16,
     "metadata": {},
     "output_type": "execute_result"
    },
    {
     "data": {
      "image/png": "[encoded data removed]",
      "text/plain": [
       "<Figure size 640x480 with 1 Axes>"
      ]
     },
     "metadata": {},
     "output_type": "display_data"
    }
   ],
   "source": [
    "from mlxtend.plotting import plot_decision_regions\n",
    "plot_decision_regions(X,y,clf=model)"
   ]
  },
  {
   "attachments": {},
   "cell_type": "markdown",
   "metadata": {},
   "source": [
    "#### By examining the output we can say that a constant initialializaton of weights are also not usable "
   ]
  },
  {
   "cell_type": "code",
   "execution_count": 29,
   "metadata": {},
   "outputs": [],
   "source": [
    "model1 = Sequential()\n",
    "\n",
    "model1.add(Dense(10,activation='tanh',input_dim=2))\n",
    "model1.add(Dense(10,activation='tanh'))\n",
    "model1.add(Dense(10,activation='tanh'))\n",
    "model1.add(Dense(10,activation='tanh'))\n",
    "model1.add(Dense(1,activation='sigmoid'))"
   ]
  },
  {
   "cell_type": "code",
   "execution_count": 30,
   "metadata": {},
   "outputs": [
    {
     "name": "stdout",
     "output_type": "stream",
     "text": [
      "Model: \"sequential_2\"\n",
      "_________________________________________________________________\n",
      " Layer (type)                Output Shape              Param #   \n",
      "=================================================================\n",
      " dense_7 (Dense)             (None, 10)                30        \n",
      "                                                                 \n",
      " dense_8 (Dense)             (None, 10)                110       \n",
      "                                                                 \n",
      " dense_9 (Dense)             (None, 10)                110       \n",
      "                                                                 \n",
      " dense_10 (Dense)            (None, 10)                110       \n",
      "                                                                 \n",
      " dense_11 (Dense)            (None, 1)                 11        \n",
      "                                                                 \n",
      "=================================================================\n",
      "Total params: 371 (1.45 KB)\n",
      "Trainable params: 371 (1.45 KB)\n",
      "Non-trainable params: 0 (0.00 Byte)\n",
      "_________________________________________________________________\n"
     ]
    }
   ],
   "source": [
    "model1.summary()"
   ]
  },
  {
   "attachments": {},
   "cell_type": "markdown",
   "metadata": {},
   "source": [
    "### NOw here we are using the xavier weight initialization technique foe weights"
   ]
  },
  {
   "cell_type": "code",
   "execution_count": 31,
   "metadata": {},
   "outputs": [],
   "source": [
    "initial_weights = model1.get_weights()"
   ]
  },
  {
   "cell_type": "code",
   "execution_count": 32,
   "metadata": {},
   "outputs": [],
   "source": [
    "initial_weights[0] = np.random.randn(2,10)*np.sqrt(1/2)\n",
    "initial_weights[1] = np.zeros(model1.get_weights()[1].shape)\n",
    "initial_weights[2] = np.random.randn(10,10)*np.sqrt(1/10)\n",
    "initial_weights[3] = np.zeros(model1.get_weights()[3].shape)\n",
    "initial_weights[4] = np.random.randn(10,10)*np.sqrt(1/10)\n",
    "initial_weights[5] = np.zeros(model1.get_weights()[5].shape)\n",
    "initial_weights[6] = np.random.randn(10,10)*np.sqrt(1/10)\n",
    "initial_weights[7] = np.zeros(model1.get_weights()[7].shape)\n",
    "initial_weights[8] = np.random.randn(10,1)*np.sqrt(1/10)\n",
    "initial_weights[9] = np.zeros(model1.get_weights()[9].shape)"
   ]
  },
  {
   "cell_type": "code",
   "execution_count": 33,
   "metadata": {},
   "outputs": [],
   "source": [
    "model1.set_weights(initial_weights)"
   ]
  },
  {
   "cell_type": "code",
   "execution_count": 34,
   "metadata": {},
   "outputs": [
    {
     "data": {
      "text/plain": [
       "[array([[ 0.3276038 , -0.5823196 , -0.5339867 ,  0.717505  ,  0.39302763,\n",
       "         -0.33406848, -1.7973176 ,  0.9233024 , -0.5018868 , -0.58364934],\n",
       "        [ 0.39432505, -0.8070722 ,  1.0570071 , -0.2479179 ,  0.9450468 ,\n",
       "          1.5358644 ,  1.585187  ,  1.4048347 ,  0.05425136,  1.3862976 ]],\n",
       "       dtype=float32),\n",
       " array([0., 0., 0., 0., 0., 0., 0., 0., 0., 0.], dtype=float32),\n",
       " array([[-0.3594696 , -0.12173288,  0.06232914,  0.4727782 , -0.45764306,\n",
       "          0.27155048, -0.04151573,  0.09322076,  0.00903848, -0.34037983],\n",
       "        [ 0.26762185, -0.05843415, -0.2117952 ,  0.03222357,  0.25065222,\n",
       "         -0.08811858, -0.17143017, -0.09422582, -0.18155088,  0.08561254],\n",
       "        [-0.23614264, -0.24351826, -0.0220643 , -0.24165094, -0.20811366,\n",
       "         -0.01609394,  0.3887744 , -0.06850532, -0.13484791,  0.01563085],\n",
       "        [ 0.1431967 , -0.27785248, -0.3228564 , -0.2654123 , -0.19083765,\n",
       "         -0.09599923,  0.45064542, -0.10596877, -0.21005319, -0.35946408],\n",
       "        [ 0.42099655, -0.21577764,  0.359213  ,  0.41613433, -0.0860883 ,\n",
       "          0.39556172,  0.09460103,  0.23034625, -0.73547876,  0.55325586],\n",
       "        [-0.4026469 ,  0.5933341 , -0.03574879, -0.17769368,  0.30127874,\n",
       "          0.07984808, -0.08389036,  0.41606978, -0.09368138,  0.7604244 ],\n",
       "        [-0.21525249, -0.26226   , -0.19494097, -0.23554556,  0.10421741,\n",
       "         -0.23012829, -0.06778283, -0.08277141,  0.01888524,  0.3002518 ],\n",
       "        [-0.01889517,  0.03551758,  0.06262867,  0.8077301 ,  0.72491604,\n",
       "          0.14872392,  0.13003883, -0.3616812 ,  0.17717633, -0.01157043],\n",
       "        [-0.23260824, -0.33240935,  0.11255184, -0.16545583,  0.07121898,\n",
       "          0.43563786, -0.17262532, -0.06207902,  0.28303516, -0.25520906],\n",
       "        [-0.28404325, -0.58155054,  0.21239606, -0.4587097 , -0.25538304,\n",
       "         -0.05308713,  0.36693415, -0.2177411 , -0.31333536,  0.02190089]],\n",
       "       dtype=float32),\n",
       " array([0., 0., 0., 0., 0., 0., 0., 0., 0., 0.], dtype=float32),\n",
       " array([[ 0.4658912 ,  0.1490538 , -0.26311946, -0.18569009, -0.00879841,\n",
       "         -0.28802136, -0.2207108 , -0.18352209, -0.0618982 , -0.01168833],\n",
       "        [ 0.12584737,  0.48210707, -0.06815361, -0.09608986,  0.46399242,\n",
       "          0.25626644, -0.1568366 ,  0.27570614,  0.31118762,  0.540862  ],\n",
       "        [-0.1901206 ,  0.11069264, -0.6423576 ,  0.48116228, -0.42624992,\n",
       "         -0.21067035,  0.18551123,  0.3868365 ,  0.2999496 ,  0.32057703],\n",
       "        [ 0.338424  , -0.04801799,  0.09062115,  0.8665408 , -0.08277684,\n",
       "          0.5289921 ,  0.33742175, -0.55614585, -0.37590468, -0.10557633],\n",
       "        [ 0.13182487,  0.08027193,  0.00965734, -0.02719708,  0.12268368,\n",
       "         -0.22184451, -0.6798636 ,  0.25411904,  0.5954198 , -0.2149684 ],\n",
       "        [-0.30039158, -0.10357399,  0.51419777, -0.39721918,  0.13441628,\n",
       "          0.12734133,  0.03029725,  0.07390075,  0.32382962,  0.35824266],\n",
       "        [-0.17831457,  0.09796682,  0.45740563,  0.48719087,  0.05447531,\n",
       "          0.00777342, -0.70572203, -0.01303568, -0.5586587 ,  0.20158468],\n",
       "        [ 0.24885896, -0.06299001,  0.1326516 ,  0.02682111,  0.35065758,\n",
       "          0.49440914, -0.11080787, -0.27378052,  0.15849045,  0.35998622],\n",
       "        [-0.27671307,  0.44031867, -0.02846021, -0.6086512 , -0.14948142,\n",
       "         -0.34302598, -0.75881714,  0.42471033, -0.2612256 ,  0.06198348],\n",
       "        [ 0.2435426 , -0.15303557,  0.38959643,  0.08602744, -0.18735586,\n",
       "          0.08648102,  0.09269246,  0.0153677 , -0.40325835,  0.5985221 ]],\n",
       "       dtype=float32),\n",
       " array([0., 0., 0., 0., 0., 0., 0., 0., 0., 0.], dtype=float32),\n",
       " array([[-5.8759135e-01,  2.2782113e-01,  3.3971998e-01, -1.7633344e-01,\n",
       "          3.7789175e-01, -3.1312317e-01,  4.1904053e-01, -5.1874276e-03,\n",
       "          6.9285698e-02, -2.8465691e-01],\n",
       "        [-1.4526154e-01, -4.1264415e-01, -2.4284917e-01, -5.1087654e-01,\n",
       "          5.3093936e-02, -1.4090908e-01, -5.6917414e-02, -3.3481918e-02,\n",
       "         -1.6781402e-01,  4.4439267e-02],\n",
       "        [ 3.9224026e-01, -1.6269328e-01,  8.1817739e-02,  9.1209942e-01,\n",
       "         -4.8458377e-01, -2.0628479e-01, -2.7483201e-01,  5.0124127e-01,\n",
       "          1.3866077e-01,  1.3148907e-01],\n",
       "        [ 2.0287186e-01, -4.1876087e-01, -3.6197867e-02, -1.9932052e-02,\n",
       "         -2.7332279e-01, -4.3050644e-01,  1.1007749e-01, -6.1564964e-01,\n",
       "          4.5325097e-01, -2.0954538e-02],\n",
       "        [ 2.1997721e-01, -6.8249625e-01, -4.7674882e-01, -2.4042828e-01,\n",
       "          5.7465337e-02,  1.3433561e-01, -6.1739832e-01,  3.0214503e-01,\n",
       "         -3.8609445e-01,  1.5180776e-01],\n",
       "        [-2.9715082e-01, -2.9162177e-01, -9.3069047e-02, -3.1984189e-01,\n",
       "         -1.7016542e-01,  5.0024158e-01, -4.6312448e-02, -1.8498628e-01,\n",
       "          2.8918433e-01, -1.3173720e-01],\n",
       "        [ 1.7709745e-01,  2.6535338e-01, -1.3779299e-01, -2.5431058e-01,\n",
       "         -8.7933764e-02,  4.6452200e-01,  5.2974459e-02, -3.2678485e-01,\n",
       "          4.9716440e-01,  1.8463874e-01],\n",
       "        [-3.6488548e-01, -2.1871018e-01,  5.2085891e-02,  2.5853804e-01,\n",
       "          3.0881283e-01, -8.4107388e-03,  3.4197617e-02, -8.8258286e-04,\n",
       "         -1.2736304e-01,  1.8101418e-01],\n",
       "        [-2.7825183e-01,  9.3810722e-02, -1.5439521e-01, -1.6293009e-01,\n",
       "          7.5801224e-01, -3.7285483e-01, -1.2707442e-01,  3.2161194e-01,\n",
       "         -1.8097281e-01, -1.0762744e-01],\n",
       "        [-4.1453621e-01, -1.1216152e-01, -4.6073052e-01,  1.2855010e-01,\n",
       "          3.1003004e-01,  1.2600911e-01, -6.8790430e-01, -4.8734188e-01,\n",
       "          3.1751144e-01, -3.7363914e-01]], dtype=float32),\n",
       " array([0., 0., 0., 0., 0., 0., 0., 0., 0., 0.], dtype=float32),\n",
       " array([[-0.16063783],\n",
       "        [-0.27206185],\n",
       "        [ 0.15703923],\n",
       "        [-0.59872013],\n",
       "        [ 0.23381214],\n",
       "        [ 0.06330303],\n",
       "        [ 0.34509316],\n",
       "        [-0.00315384],\n",
       "        [-0.04138628],\n",
       "        [ 0.11795747]], dtype=float32),\n",
       " array([0.], dtype=float32)]"
      ]
     },
     "execution_count": 34,
     "metadata": {},
     "output_type": "execute_result"
    }
   ],
   "source": [
    "model1.get_weights()"
   ]
  },
  {
   "cell_type": "code",
   "execution_count": 35,
   "metadata": {},
   "outputs": [],
   "source": [
    "model1.compile(loss='binary_crossentropy',optimizer='adam',metrics=['accuracy'])"
   ]
  },
  {
   "cell_type": "code",
   "execution_count": 36,
   "metadata": {},
   "outputs": [
    {
     "name": "stdout",
     "output_type": "stream",
     "text": [
      "9600/9600 [==============================] - 15s 2ms/step\n"
     ]
    },
    {
     "data": {
      "text/plain": [
       "<Axes: >"
      ]
     },
     "execution_count": 36,
     "metadata": {},
     "output_type": "execute_result"
    },
    {
     "data": {
      "image/png": "[encoded data removed]",
      "text/plain": [
       "<Figure size 640x480 with 1 Axes>"
      ]
     },
     "metadata": {},
     "output_type": "display_data"
    }
   ],
   "source": [
    "from mlxtend.plotting import plot_decision_regions\n",
    "plot_decision_regions(X,y.astype('int'), clf=model1, legend=2)"
   ]
  },
  {
   "attachments": {},
   "cell_type": "markdown",
   "metadata": {},
   "source": [
    "### In the output we see the differecne "
   ]
  },
  {
   "attachments": {},
   "cell_type": "markdown",
   "metadata": {},
   "source": [
    "### Now if we use he_normal initialization"
   ]
  },
  {
   "cell_type": "code",
   "execution_count": 42,
   "metadata": {},
   "outputs": [
    {
     "name": "stdout",
     "output_type": "stream",
     "text": [
      "Model: \"sequential_5\"\n",
      "_________________________________________________________________\n",
      " Layer (type)                Output Shape              Param #   \n",
      "=================================================================\n",
      " dense_22 (Dense)            (None, 10)                30        \n",
      "                                                                 \n",
      " dense_23 (Dense)            (None, 10)                110       \n",
      "                                                                 \n",
      " dense_24 (Dense)            (None, 10)                110       \n",
      "                                                                 \n",
      " dense_25 (Dense)            (None, 10)                110       \n",
      "                                                                 \n",
      " dense_26 (Dense)            (None, 1)                 11        \n",
      "                                                                 \n",
      "=================================================================\n",
      "Total params: 371 (1.45 KB)\n",
      "Trainable params: 371 (1.45 KB)\n",
      "Non-trainable params: 0 (0.00 Byte)\n",
      "_________________________________________________________________\n"
     ]
    }
   ],
   "source": [
    "model2 = Sequential()\n",
    "\n",
    "model2.add(Dense(10,activation='relu',input_dim=2,kernel_initializer='he_normal'))\n",
    "model2.add(Dense(10,activation='relu',kernel_initializer='he_normal'))\n",
    "model2.add(Dense(10,activation='relu',kernel_initializer='he_normal'))\n",
    "model2.add(Dense(10,activation='relu',kernel_initializer='he_normal'))\n",
    "model2.add(Dense(1,activation='sigmoid'))\n",
    "\n",
    "model2.summary()"
   ]
  },
  {
   "cell_type": "code",
   "execution_count": 43,
   "metadata": {},
   "outputs": [],
   "source": [
    "model2.compile(loss='binary_crossentropy',optimizer='adam',metrics=['accuracy'])"
   ]
  },
  {
   "cell_type": "code",
   "execution_count": 44,
   "metadata": {},
   "outputs": [
    {
     "name": "stdout",
     "output_type": "stream",
     "text": [
      "Epoch 1/100\n",
      "3/3 [==============================] - 2s 283ms/step - loss: 0.6601 - accuracy: 0.3750 - val_loss: 0.6426 - val_accuracy: 0.4000\n",
      "Epoch 2/100\n",
      "3/3 [==============================] - 0s 30ms/step - loss: 0.6431 - accuracy: 0.4125 - val_loss: 0.6231 - val_accuracy: 0.4000\n",
      "Epoch 3/100\n",
      "3/3 [==============================] - 0s 27ms/step - loss: 0.6261 - accuracy: 0.4500 - val_loss: 0.6051 - val_accuracy: 0.4500\n",
      "Epoch 4/100\n",
      "3/3 [==============================] - 0s 27ms/step - loss: 0.6106 - accuracy: 0.4875 - val_loss: 0.5870 - val_accuracy: 0.5000\n",
      "Epoch 5/100\n",
      "3/3 [==============================] - 0s 33ms/step - loss: 0.5945 - accuracy: 0.5125 - val_loss: 0.5701 - val_accuracy: 0.6500\n",
      "Epoch 6/100\n",
      "3/3 [==============================] - 0s 32ms/step - loss: 0.5791 - accuracy: 0.5625 - val_loss: 0.5537 - val_accuracy: 0.7500\n",
      "Epoch 7/100\n",
      "3/3 [==============================] - 0s 112ms/step - loss: 0.5633 - accuracy: 0.6750 - val_loss: 0.5373 - val_accuracy: 0.7500\n",
      "Epoch 8/100\n",
      "3/3 [==============================] - 0s 51ms/step - loss: 0.5476 - accuracy: 0.7625 - val_loss: 0.5203 - val_accuracy: 0.7500\n",
      "Epoch 9/100\n",
      "3/3 [==============================] - 0s 33ms/step - loss: 0.5323 - accuracy: 0.8875 - val_loss: 0.5043 - val_accuracy: 0.9500\n",
      "Epoch 10/100\n",
      "3/3 [==============================] - 0s 28ms/step - loss: 0.5167 - accuracy: 0.9500 - val_loss: 0.4891 - val_accuracy: 0.9500\n",
      "Epoch 11/100\n",
      "3/3 [==============================] - 0s 33ms/step - loss: 0.5013 - accuracy: 0.9625 - val_loss: 0.4742 - val_accuracy: 1.0000\n",
      "Epoch 12/100\n",
      "3/3 [==============================] - 0s 35ms/step - loss: 0.4865 - accuracy: 0.9625 - val_loss: 0.4598 - val_accuracy: 1.0000\n",
      "Epoch 13/100\n",
      "3/3 [==============================] - 0s 39ms/step - loss: 0.4716 - accuracy: 0.9625 - val_loss: 0.4453 - val_accuracy: 1.0000\n",
      "Epoch 14/100\n",
      "3/3 [==============================] - 0s 37ms/step - loss: 0.4573 - accuracy: 0.9625 - val_loss: 0.4310 - val_accuracy: 1.0000\n",
      "Epoch 15/100\n",
      "3/3 [==============================] - 0s 43ms/step - loss: 0.4421 - accuracy: 0.9625 - val_loss: 0.4171 - val_accuracy: 1.0000\n",
      "Epoch 16/100\n",
      "3/3 [==============================] - 0s 134ms/step - loss: 0.4277 - accuracy: 0.9625 - val_loss: 0.4032 - val_accuracy: 1.0000\n",
      "Epoch 17/100\n",
      "3/3 [==============================] - 0s 41ms/step - loss: 0.4127 - accuracy: 0.9750 - val_loss: 0.3886 - val_accuracy: 1.0000\n",
      "Epoch 18/100\n",
      "3/3 [==============================] - 0s 32ms/step - loss: 0.3973 - accuracy: 0.9750 - val_loss: 0.3729 - val_accuracy: 1.0000\n",
      "Epoch 19/100\n",
      "3/3 [==============================] - 0s 24ms/step - loss: 0.3824 - accuracy: 0.9750 - val_loss: 0.3567 - val_accuracy: 1.0000\n",
      "Epoch 20/100\n",
      "3/3 [==============================] - 0s 27ms/step - loss: 0.3678 - accuracy: 0.9750 - val_loss: 0.3410 - val_accuracy: 1.0000\n",
      "Epoch 21/100\n",
      "3/3 [==============================] - 0s 25ms/step - loss: 0.3531 - accuracy: 0.9750 - val_loss: 0.3259 - val_accuracy: 1.0000\n",
      "Epoch 22/100\n",
      "3/3 [==============================] - 0s 22ms/step - loss: 0.3393 - accuracy: 0.9750 - val_loss: 0.3112 - val_accuracy: 1.0000\n",
      "Epoch 23/100\n",
      "3/3 [==============================] - 0s 25ms/step - loss: 0.3255 - accuracy: 0.9750 - val_loss: 0.2970 - val_accuracy: 1.0000\n",
      "Epoch 24/100\n",
      "3/3 [==============================] - 0s 24ms/step - loss: 0.3122 - accuracy: 0.9750 - val_loss: 0.2831 - val_accuracy: 1.0000\n",
      "Epoch 25/100\n",
      "3/3 [==============================] - 0s 23ms/step - loss: 0.2992 - accuracy: 0.9750 - val_loss: 0.2696 - val_accuracy: 1.0000\n",
      "Epoch 26/100\n",
      "3/3 [==============================] - 0s 23ms/step - loss: 0.2869 - accuracy: 0.9750 - val_loss: 0.2560 - val_accuracy: 1.0000\n",
      "Epoch 27/100\n",
      "3/3 [==============================] - 0s 23ms/step - loss: 0.2752 - accuracy: 0.9750 - val_loss: 0.2429 - val_accuracy: 1.0000\n",
      "Epoch 28/100\n",
      "3/3 [==============================] - 0s 26ms/step - loss: 0.2642 - accuracy: 0.9750 - val_loss: 0.2307 - val_accuracy: 1.0000\n",
      "Epoch 29/100\n",
      "3/3 [==============================] - 0s 25ms/step - loss: 0.2533 - accuracy: 0.9750 - val_loss: 0.2190 - val_accuracy: 1.0000\n",
      "Epoch 30/100\n",
      "3/3 [==============================] - 0s 25ms/step - loss: 0.2433 - accuracy: 0.9750 - val_loss: 0.2076 - val_accuracy: 1.0000\n",
      "Epoch 31/100\n",
      "3/3 [==============================] - 0s 26ms/step - loss: 0.2332 - accuracy: 0.9750 - val_loss: 0.1966 - val_accuracy: 1.0000\n",
      "Epoch 32/100\n",
      "3/3 [==============================] - 0s 25ms/step - loss: 0.2238 - accuracy: 0.9750 - val_loss: 0.1857 - val_accuracy: 1.0000\n",
      "Epoch 33/100\n",
      "3/3 [==============================] - 0s 23ms/step - loss: 0.2144 - accuracy: 0.9875 - val_loss: 0.1753 - val_accuracy: 1.0000\n",
      "Epoch 34/100\n",
      "3/3 [==============================] - 0s 24ms/step - loss: 0.2052 - accuracy: 0.9875 - val_loss: 0.1654 - val_accuracy: 1.0000\n",
      "Epoch 35/100\n",
      "3/3 [==============================] - 0s 21ms/step - loss: 0.1964 - accuracy: 0.9875 - val_loss: 0.1560 - val_accuracy: 1.0000\n",
      "Epoch 36/100\n",
      "3/3 [==============================] - 0s 24ms/step - loss: 0.1878 - accuracy: 0.9875 - val_loss: 0.1471 - val_accuracy: 1.0000\n",
      "Epoch 37/100\n",
      "3/3 [==============================] - 0s 25ms/step - loss: 0.1801 - accuracy: 0.9875 - val_loss: 0.1385 - val_accuracy: 1.0000\n",
      "Epoch 38/100\n",
      "3/3 [==============================] - 0s 27ms/step - loss: 0.1726 - accuracy: 0.9875 - val_loss: 0.1303 - val_accuracy: 1.0000\n",
      "Epoch 39/100\n",
      "3/3 [==============================] - 0s 24ms/step - loss: 0.1654 - accuracy: 0.9875 - val_loss: 0.1226 - val_accuracy: 1.0000\n",
      "Epoch 40/100\n",
      "3/3 [==============================] - 0s 25ms/step - loss: 0.1586 - accuracy: 0.9875 - val_loss: 0.1153 - val_accuracy: 1.0000\n",
      "Epoch 41/100\n",
      "3/3 [==============================] - 0s 23ms/step - loss: 0.1519 - accuracy: 0.9875 - val_loss: 0.1086 - val_accuracy: 1.0000\n",
      "Epoch 42/100\n",
      "3/3 [==============================] - 0s 24ms/step - loss: 0.1458 - accuracy: 0.9875 - val_loss: 0.1021 - val_accuracy: 1.0000\n",
      "Epoch 43/100\n",
      "3/3 [==============================] - 0s 25ms/step - loss: 0.1399 - accuracy: 0.9875 - val_loss: 0.0961 - val_accuracy: 1.0000\n",
      "Epoch 44/100\n",
      "3/3 [==============================] - 0s 25ms/step - loss: 0.1344 - accuracy: 0.9875 - val_loss: 0.0905 - val_accuracy: 1.0000\n",
      "Epoch 45/100\n",
      "3/3 [==============================] - 0s 25ms/step - loss: 0.1292 - accuracy: 0.9875 - val_loss: 0.0852 - val_accuracy: 1.0000\n",
      "Epoch 46/100\n",
      "3/3 [==============================] - 0s 23ms/step - loss: 0.1242 - accuracy: 0.9875 - val_loss: 0.0804 - val_accuracy: 1.0000\n",
      "Epoch 47/100\n",
      "3/3 [==============================] - 0s 38ms/step - loss: 0.1197 - accuracy: 0.9875 - val_loss: 0.0758 - val_accuracy: 1.0000\n",
      "Epoch 48/100\n",
      "3/3 [==============================] - 0s 26ms/step - loss: 0.1153 - accuracy: 0.9875 - val_loss: 0.0715 - val_accuracy: 1.0000\n",
      "Epoch 49/100\n",
      "3/3 [==============================] - 0s 25ms/step - loss: 0.1112 - accuracy: 0.9875 - val_loss: 0.0675 - val_accuracy: 1.0000\n",
      "Epoch 50/100\n",
      "3/3 [==============================] - 0s 26ms/step - loss: 0.1071 - accuracy: 0.9875 - val_loss: 0.0636 - val_accuracy: 1.0000\n",
      "Epoch 51/100\n",
      "3/3 [==============================] - 0s 24ms/step - loss: 0.1034 - accuracy: 0.9875 - val_loss: 0.0600 - val_accuracy: 1.0000\n",
      "Epoch 52/100\n",
      "3/3 [==============================] - 0s 24ms/step - loss: 0.0999 - accuracy: 0.9875 - val_loss: 0.0566 - val_accuracy: 1.0000\n",
      "Epoch 53/100\n",
      "3/3 [==============================] - 0s 23ms/step - loss: 0.0962 - accuracy: 0.9875 - val_loss: 0.0534 - val_accuracy: 1.0000\n",
      "Epoch 54/100\n",
      "3/3 [==============================] - 0s 23ms/step - loss: 0.0933 - accuracy: 0.9875 - val_loss: 0.0503 - val_accuracy: 1.0000\n",
      "Epoch 55/100\n",
      "3/3 [==============================] - 0s 25ms/step - loss: 0.0901 - accuracy: 0.9875 - val_loss: 0.0474 - val_accuracy: 1.0000\n",
      "Epoch 56/100\n",
      "3/3 [==============================] - 0s 24ms/step - loss: 0.0871 - accuracy: 0.9875 - val_loss: 0.0447 - val_accuracy: 1.0000\n",
      "Epoch 57/100\n",
      "3/3 [==============================] - 0s 22ms/step - loss: 0.0844 - accuracy: 0.9875 - val_loss: 0.0421 - val_accuracy: 1.0000\n",
      "Epoch 58/100\n",
      "3/3 [==============================] - 0s 23ms/step - loss: 0.0818 - accuracy: 0.9875 - val_loss: 0.0398 - val_accuracy: 1.0000\n",
      "Epoch 59/100\n",
      "3/3 [==============================] - 0s 25ms/step - loss: 0.0793 - accuracy: 0.9875 - val_loss: 0.0376 - val_accuracy: 1.0000\n",
      "Epoch 60/100\n",
      "3/3 [==============================] - 0s 25ms/step - loss: 0.0770 - accuracy: 0.9875 - val_loss: 0.0357 - val_accuracy: 1.0000\n",
      "Epoch 61/100\n",
      "3/3 [==============================] - 0s 25ms/step - loss: 0.0748 - accuracy: 0.9875 - val_loss: 0.0338 - val_accuracy: 1.0000\n",
      "Epoch 62/100\n",
      "3/3 [==============================] - 0s 23ms/step - loss: 0.0728 - accuracy: 0.9875 - val_loss: 0.0321 - val_accuracy: 1.0000\n",
      "Epoch 63/100\n",
      "3/3 [==============================] - 0s 28ms/step - loss: 0.0709 - accuracy: 0.9875 - val_loss: 0.0304 - val_accuracy: 1.0000\n",
      "Epoch 64/100\n",
      "3/3 [==============================] - 0s 30ms/step - loss: 0.0690 - accuracy: 0.9875 - val_loss: 0.0288 - val_accuracy: 1.0000\n",
      "Epoch 65/100\n",
      "3/3 [==============================] - 0s 28ms/step - loss: 0.0673 - accuracy: 0.9875 - val_loss: 0.0274 - val_accuracy: 1.0000\n",
      "Epoch 66/100\n",
      "3/3 [==============================] - 0s 26ms/step - loss: 0.0655 - accuracy: 0.9875 - val_loss: 0.0260 - val_accuracy: 1.0000\n",
      "Epoch 67/100\n",
      "3/3 [==============================] - 0s 24ms/step - loss: 0.0639 - accuracy: 0.9875 - val_loss: 0.0248 - val_accuracy: 1.0000\n",
      "Epoch 68/100\n",
      "3/3 [==============================] - 0s 25ms/step - loss: 0.0624 - accuracy: 0.9875 - val_loss: 0.0235 - val_accuracy: 1.0000\n",
      "Epoch 69/100\n",
      "3/3 [==============================] - 0s 25ms/step - loss: 0.0611 - accuracy: 0.9875 - val_loss: 0.0223 - val_accuracy: 1.0000\n",
      "Epoch 70/100\n",
      "3/3 [==============================] - 0s 24ms/step - loss: 0.0597 - accuracy: 0.9875 - val_loss: 0.0211 - val_accuracy: 1.0000\n",
      "Epoch 71/100\n",
      "3/3 [==============================] - 0s 23ms/step - loss: 0.0582 - accuracy: 0.9875 - val_loss: 0.0202 - val_accuracy: 1.0000\n",
      "Epoch 72/100\n",
      "3/3 [==============================] - 0s 25ms/step - loss: 0.0569 - accuracy: 0.9875 - val_loss: 0.0193 - val_accuracy: 1.0000\n",
      "Epoch 73/100\n",
      "3/3 [==============================] - 0s 37ms/step - loss: 0.0557 - accuracy: 0.9875 - val_loss: 0.0184 - val_accuracy: 1.0000\n",
      "Epoch 74/100\n",
      "3/3 [==============================] - 0s 26ms/step - loss: 0.0545 - accuracy: 0.9875 - val_loss: 0.0175 - val_accuracy: 1.0000\n",
      "Epoch 75/100\n",
      "3/3 [==============================] - 0s 26ms/step - loss: 0.0534 - accuracy: 0.9875 - val_loss: 0.0166 - val_accuracy: 1.0000\n",
      "Epoch 76/100\n",
      "3/3 [==============================] - 0s 30ms/step - loss: 0.0524 - accuracy: 0.9875 - val_loss: 0.0159 - val_accuracy: 1.0000\n",
      "Epoch 77/100\n",
      "3/3 [==============================] - 0s 91ms/step - loss: 0.0513 - accuracy: 0.9875 - val_loss: 0.0152 - val_accuracy: 1.0000\n",
      "Epoch 78/100\n",
      "3/3 [==============================] - 0s 41ms/step - loss: 0.0504 - accuracy: 0.9875 - val_loss: 0.0145 - val_accuracy: 1.0000\n",
      "Epoch 79/100\n",
      "3/3 [==============================] - 0s 24ms/step - loss: 0.0494 - accuracy: 0.9875 - val_loss: 0.0139 - val_accuracy: 1.0000\n",
      "Epoch 80/100\n",
      "3/3 [==============================] - 0s 25ms/step - loss: 0.0485 - accuracy: 0.9875 - val_loss: 0.0132 - val_accuracy: 1.0000\n",
      "Epoch 81/100\n",
      "3/3 [==============================] - 0s 28ms/step - loss: 0.0476 - accuracy: 0.9875 - val_loss: 0.0126 - val_accuracy: 1.0000\n",
      "Epoch 82/100\n",
      "3/3 [==============================] - 0s 27ms/step - loss: 0.0467 - accuracy: 0.9875 - val_loss: 0.0120 - val_accuracy: 1.0000\n",
      "Epoch 83/100\n",
      "3/3 [==============================] - 0s 24ms/step - loss: 0.0459 - accuracy: 0.9875 - val_loss: 0.0115 - val_accuracy: 1.0000\n",
      "Epoch 84/100\n",
      "3/3 [==============================] - 0s 26ms/step - loss: 0.0450 - accuracy: 0.9875 - val_loss: 0.0112 - val_accuracy: 1.0000\n",
      "Epoch 85/100\n",
      "3/3 [==============================] - 0s 29ms/step - loss: 0.0443 - accuracy: 0.9875 - val_loss: 0.0108 - val_accuracy: 1.0000\n",
      "Epoch 86/100\n",
      "3/3 [==============================] - 0s 26ms/step - loss: 0.0437 - accuracy: 0.9875 - val_loss: 0.0105 - val_accuracy: 1.0000\n",
      "Epoch 87/100\n",
      "3/3 [==============================] - 0s 25ms/step - loss: 0.0429 - accuracy: 0.9875 - val_loss: 0.0101 - val_accuracy: 1.0000\n",
      "Epoch 88/100\n",
      "3/3 [==============================] - 0s 39ms/step - loss: 0.0421 - accuracy: 0.9875 - val_loss: 0.0097 - val_accuracy: 1.0000\n",
      "Epoch 89/100\n",
      "3/3 [==============================] - 0s 23ms/step - loss: 0.0416 - accuracy: 0.9875 - val_loss: 0.0093 - val_accuracy: 1.0000\n",
      "Epoch 90/100\n",
      "3/3 [==============================] - 0s 24ms/step - loss: 0.0409 - accuracy: 0.9875 - val_loss: 0.0090 - val_accuracy: 1.0000\n",
      "Epoch 91/100\n",
      "3/3 [==============================] - 0s 23ms/step - loss: 0.0402 - accuracy: 0.9875 - val_loss: 0.0086 - val_accuracy: 1.0000\n",
      "Epoch 92/100\n",
      "3/3 [==============================] - 0s 24ms/step - loss: 0.0397 - accuracy: 0.9875 - val_loss: 0.0083 - val_accuracy: 1.0000\n",
      "Epoch 93/100\n",
      "3/3 [==============================] - 0s 24ms/step - loss: 0.0391 - accuracy: 0.9875 - val_loss: 0.0079 - val_accuracy: 1.0000\n",
      "Epoch 94/100\n",
      "3/3 [==============================] - 0s 26ms/step - loss: 0.0386 - accuracy: 0.9875 - val_loss: 0.0077 - val_accuracy: 1.0000\n",
      "Epoch 95/100\n",
      "3/3 [==============================] - 0s 24ms/step - loss: 0.0381 - accuracy: 0.9875 - val_loss: 0.0074 - val_accuracy: 1.0000\n",
      "Epoch 96/100\n",
      "3/3 [==============================] - 0s 23ms/step - loss: 0.0376 - accuracy: 0.9875 - val_loss: 0.0071 - val_accuracy: 1.0000\n",
      "Epoch 97/100\n",
      "3/3 [==============================] - 0s 23ms/step - loss: 0.0371 - accuracy: 0.9875 - val_loss: 0.0069 - val_accuracy: 1.0000\n",
      "Epoch 98/100\n",
      "3/3 [==============================] - 0s 25ms/step - loss: 0.0366 - accuracy: 0.9875 - val_loss: 0.0066 - val_accuracy: 1.0000\n",
      "Epoch 99/100\n",
      "3/3 [==============================] - 0s 23ms/step - loss: 0.0361 - accuracy: 0.9875 - val_loss: 0.0064 - val_accuracy: 1.0000\n",
      "Epoch 100/100\n",
      "3/3 [==============================] - 0s 24ms/step - loss: 0.0358 - accuracy: 0.9875 - val_loss: 0.0061 - val_accuracy: 1.0000\n"
     ]
    }
   ],
   "source": [
    "history = model2.fit(X,y,epochs=100,validation_split=0.2)"
   ]
  },
  {
   "cell_type": "code",
   "execution_count": 45,
   "metadata": {},
   "outputs": [
    {
     "name": "stdout",
     "output_type": "stream",
     "text": [
      "9600/9600 [==============================] - 14s 1ms/step\n"
     ]
    },
    {
     "data": {
      "text/plain": [
       "<Axes: >"
      ]
     },
     "execution_count": 45,
     "metadata": {},
     "output_type": "execute_result"
    },
    {
     "data": {
      "image/png": "[encoded data removed]",
      "text/plain": [
       "<Figure size 640x480 with 1 Axes>"
      ]
     },
     "metadata": {},
     "output_type": "display_data"
    }
   ],
   "source": [
    "from mlxtend.plotting import plot_decision_regions\n",
    "plot_decision_regions(X,y.astype('int'), clf=model2, legend=2)"
   ]
  },
  {
   "attachments": {},
   "cell_type": "markdown",
   "metadata": {},
   "source": [
    "### So we see the effect of correct inititalization techniques in Modeling the architecture of Neural Network"
   ]
  }
 ],
 "metadata": {
  "kernelspec": {
   "display_name": "Python 3",
   "language": "python",
   "name": "python3"
  },
  "language_info": {
   "codemirror_mode": {
    "name": "ipython",
    "version": 3
   },
   "file_extension": ".py",
   "mimetype": "text/x-python",
   "name": "python",
   "nbconvert_exporter": "python",
   "pygments_lexer": "ipython3",
   "version": "3.10.11"
  },
  "orig_nbformat": 4
 },
 "nbformat": 4,
 "nbformat_minor": 2
}
